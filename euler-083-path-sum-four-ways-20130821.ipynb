{
 "metadata": {
  "name": "euler-083-path-sum-four-ways-20130821"
 },
 "nbformat": 3,
 "nbformat_minor": 0,
 "worksheets": [
  {
   "cells": [
    {
     "cell_type": "markdown",
     "metadata": {},
     "source": [
      "NOTE: This problem is a significantly more challenging version of [Problem 81](http://projecteuler.net/index.php?section=problems&id=81).  \n",
      "\n",
      "In the 5 by 5 matrix below, the minimal path sum from the top left to the bottom right, by moving left, right, up, and down, is indicated in bold red and is equal to 2297.  \n",
      "\n",
      ">  **131**  673  **234  103  18**  \n",
      ">  **201  96  342**  965  **150**  \n",
      ">  630  803  746  **422  111**  \n",
      ">  537  699  497  **121**  956  \n",
      ">  805  732  524  **37  331**  \n",
      "\n",
      "Find the minimal path sum, in [matrix.txt](http://projecteuler.net/project/matrix.txt) (right click and 'Save Link/Target As...'), a 31K text file containing a 80 by 80 matrix, from the top left to the bottom right by moving left, right, up, and down."
     ]
    },
    {
     "cell_type": "code",
     "collapsed": false,
     "input": [
      "import numpy as np"
     ],
     "language": "python",
     "metadata": {},
     "outputs": [],
     "prompt_number": 1
    },
    {
     "cell_type": "code",
     "collapsed": false,
     "input": [
      "def roam(m, s, row, column):\n",
      "    further = []\n",
      "    for dr, dc in ((0, 1), (0, -1), (1, 0), (-1, 0)):\n",
      "        r = row + dr\n",
      "        c = column + dc\n",
      "        if r < 0 or r >= len(m) or c < 0 or c >= len(m[0]):\n",
      "            continue\n",
      "        if (s[r, c] is None or\n",
      "        s[row, column] + m[r, c] < s[r, c]):\n",
      "            s[r, c] = s[row, column] + m[r, c]\n",
      "            further.append((r, c))\n",
      "    # print row, column, further\n",
      "    for r, c in further:\n",
      "        roam(m, s, r, c)"
     ],
     "language": "python",
     "metadata": {},
     "outputs": [],
     "prompt_number": 2
    },
    {
     "cell_type": "code",
     "collapsed": false,
     "input": [
      "def foo(m):\n",
      "    big = None\n",
      "    # s = [[2 ** 64 - 1] * len(m[0])] * len(m)  # Slow. \n",
      "    s = [[big] * len(m[0])] * len(m)\n",
      "    # s = [[2 ** 31 - 1] * len(m[0])] * len(m)  # Not slow.\n",
      "    s = np.array(s)\n",
      "    \n",
      "    s[0, 0] = m[0, 0]\n",
      "    roam(m, s, 0, 0)\n",
      "    return s[-1,-1]"
     ],
     "language": "python",
     "metadata": {},
     "outputs": [],
     "prompt_number": 3
    },
    {
     "cell_type": "code",
     "collapsed": false,
     "input": [
      "n = [[131,673, 234, 103,  18],\n",
      "    [201,  96, 342, 965, 150],\n",
      "    [630, 803, 746, 422, 111],\n",
      "    [537, 699, 497, 121, 956],\n",
      "    [805, 732, 524,  37, 331]]\n",
      "n = np.array(n)\n",
      "print n\n",
      "\n",
      "%timeit foo(n)\n",
      "foo(n)"
     ],
     "language": "python",
     "metadata": {},
     "outputs": [
      {
       "output_type": "stream",
       "stream": "stdout",
       "text": [
        "[[131 673 234 103  18]\n",
        " [201  96 342 965 150]\n",
        " [630 803 746 422 111]\n",
        " [537 699 497 121 956]\n",
        " [805 732 524  37 331]]\n",
        "1000 loops, best of 3: 1.21 ms per loop"
       ]
      },
      {
       "output_type": "stream",
       "stream": "stdout",
       "text": [
        "\n"
       ]
      },
      {
       "output_type": "pyout",
       "prompt_number": 4,
       "text": [
        "2297"
       ]
      }
     ],
     "prompt_number": 4
    },
    {
     "cell_type": "code",
     "collapsed": false,
     "input": [
      "def roam(m, s, row, column):\n",
      "    further = []\n",
      "    for dr, dc in ((0, 1), (0, -1), (1, 0), (-1, 0)):\n",
      "        r = row + dr\n",
      "        c = column + dc\n",
      "        if r < 0 or r >= len(m) or c < 0 or c >= len(m[0]):\n",
      "            continue\n",
      "        if (s[r, c] is None or\n",
      "        s[row, column] + m[r, c] < s[r, c]):\n",
      "            s[r, c] = s[row, column] + m[r, c]\n",
      "            further.append((r, c))\n",
      "    # print row, column, further\n",
      "    return further"
     ],
     "language": "python",
     "metadata": {},
     "outputs": [],
     "prompt_number": 5
    },
    {
     "cell_type": "code",
     "collapsed": false,
     "input": [
      "def foo(m):\n",
      "    big = None\n",
      "    # s = [[2 ** 64 - 1] * len(m[0])] * len(m)  # Slow. \n",
      "    s = [[big] * len(m[0])] * len(m)\n",
      "    # s = [[2 ** 31 - 1] * len(m[0])] * len(m)  # Not slow.\n",
      "    s = np.array(s)\n",
      "    \n",
      "    s[0, 0] = m[0, 0]\n",
      "    further = [(0, 0)]\n",
      "    while further:\n",
      "        new_further = []\n",
      "        for r, c in further:\n",
      "            new_further.extend(roam(m, s, r, c))\n",
      "        further = new_further\n",
      "    return s[-1,-1]"
     ],
     "language": "python",
     "metadata": {},
     "outputs": [],
     "prompt_number": 6
    },
    {
     "cell_type": "code",
     "collapsed": false,
     "input": [
      "n = [[131,673, 234, 103,  18],\n",
      "    [201,  96, 342, 965, 150],\n",
      "    [630, 803, 746, 422, 111],\n",
      "    [537, 699, 497, 121, 956],\n",
      "    [805, 732, 524,  37, 331]]\n",
      "n = np.array(n)\n",
      "print n\n",
      "\n",
      "%timeit foo(n)\n",
      "foo(n)"
     ],
     "language": "python",
     "metadata": {},
     "outputs": [
      {
       "output_type": "stream",
       "stream": "stdout",
       "text": [
        "[[131 673 234 103  18]\n",
        " [201  96 342 965 150]\n",
        " [630 803 746 422 111]\n",
        " [537 699 497 121 956]\n",
        " [805 732 524  37 331]]\n",
        "1000 loops, best of 3: 732 us per loop"
       ]
      },
      {
       "output_type": "stream",
       "stream": "stdout",
       "text": [
        "\n"
       ]
      },
      {
       "output_type": "pyout",
       "prompt_number": 7,
       "text": [
        "2297"
       ]
      }
     ],
     "prompt_number": 7
    },
    {
     "cell_type": "code",
     "collapsed": false,
     "input": [
      "# http://projecteuler.net/project/matrix.txt\n",
      "n = np.array([map(int, line.strip().split(',')) for line in open('matrix.txt').readlines()])\n",
      "# print n\n",
      "\n",
      "%timeit foo(n)\n",
      "foo(n)"
     ],
     "language": "python",
     "metadata": {},
     "outputs": [
      {
       "output_type": "stream",
       "stream": "stdout",
       "text": [
        "1 loops, best of 3: 509 ms per loop\n"
       ]
      },
      {
       "output_type": "pyout",
       "prompt_number": 8,
       "text": [
        "425185"
       ]
      }
     ],
     "prompt_number": 8
    }
   ],
   "metadata": {}
  }
 ]
}