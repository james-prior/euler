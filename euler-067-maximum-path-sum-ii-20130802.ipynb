{
 "metadata": {
  "name": "euler-067-maximum-path-sum-ii-20130802"
 },
 "nbformat": 3,
 "nbformat_minor": 0,
 "worksheets": [
  {
   "cells": [
    {
     "cell_type": "markdown",
     "metadata": {},
     "source": [
      "By starting at the top of the triangle below and moving to adjacent numbers on the row below, the maximum total from top to bottom is 23.  \n",
      "3  \n",
      " 7 4  \n",
      " 2 4 6  \n",
      " 8 5 9 3  \n",
      "That is, 3 + 7 + 4 + 9 = 23.  \n",
      "\n",
      "Find the maximum total from top to bottom in [triangle.txt](http://projecteuler.net/project/triangle.txt) (right click and 'Save Link/Target As...'), a 15K text file containing a triangle with one-hundred rows.\n",
      "\n",
      "NOTE: This is a much more difficult version of Problem 18. It is not possible to try every route to solve this problem, as there are 2<sup>99</sup> altogether! If you could check one trillion (10<sup>12</sup>) routes every second it would take over twenty billion years to check them all. There is an efficient algorithm to solve it. ;o)"
     ]
    },
    {
     "cell_type": "code",
     "collapsed": false,
     "input": [
      "t4 = [\n",
      "    [3],\n",
      "    [7, 4],\n",
      "    [2, 4, 6],\n",
      "    [8, 5, 9, 3],]\n",
      "t4"
     ],
     "language": "python",
     "metadata": {},
     "outputs": [
      {
       "output_type": "pyout",
       "prompt_number": 1,
       "text": [
        "[[3], [7, 4], [2, 4, 6], [8, 5, 9, 3]]"
       ]
      }
     ],
     "prompt_number": 1
    },
    {
     "cell_type": "code",
     "collapsed": false,
     "input": [
      "t15 = [\n",
      "    [75],\n",
      "    [95, 64],\n",
      "    [17, 47, 82],\n",
      "    [18, 35, 87, 10],\n",
      "    [20,  4, 82, 47, 65],\n",
      "    [19,  1, 23, 75,  3, 34],\n",
      "    [88,  2, 77, 73,  7, 63, 67],\n",
      "    [99, 65,  4, 28,  6, 16, 70, 92],\n",
      "    [41, 41, 26, 56, 83, 40, 80, 70, 33],\n",
      "    [41, 48, 72, 33, 47, 32, 37, 16, 94, 29],\n",
      "    [53, 71, 44, 65, 25, 43, 91, 52, 97, 51, 14],\n",
      "    [70, 11, 33, 28, 77, 73, 17, 78, 39, 68, 17, 57],\n",
      "    [91, 71, 52, 38, 17, 14, 91, 43, 58, 50, 27, 29, 48],\n",
      "    [63, 66,  4, 68, 89, 53, 67, 30, 73, 16, 69, 87, 40, 31],\n",
      "    [04, 62, 98, 27, 23,  9, 70, 98, 73, 93, 38, 53, 60,  4, 23],]\n",
      "len(t15)"
     ],
     "language": "python",
     "metadata": {},
     "outputs": [
      {
       "output_type": "pyout",
       "prompt_number": 2,
       "text": [
        "15"
       ]
      }
     ],
     "prompt_number": 2
    },
    {
     "cell_type": "code",
     "collapsed": false,
     "input": [
      "def foo(t):\n",
      "    for i in range(len(t))[::-1]:\n",
      "        r = t[i]\n",
      "        try:\n",
      "            nr = t[i+1]\n",
      "        except IndexError:\n",
      "            for j in range(len(t[i])):\n",
      "                t[i][j] = (t[i][j], None)\n",
      "        else:\n",
      "            for j in range(len(t[i])):\n",
      "                dir = (t[i+1][j+1][0] > t[i+1][j+0][0])\n",
      "                t[i][j] = (t[i][j] + t[i+1][j+dir][0], dir)\n",
      "    return t[0][0][0]"
     ],
     "language": "python",
     "metadata": {},
     "outputs": [],
     "prompt_number": 3
    },
    {
     "cell_type": "code",
     "collapsed": false,
     "input": [
      "from copy import deepcopy"
     ],
     "language": "python",
     "metadata": {},
     "outputs": [],
     "prompt_number": 4
    },
    {
     "cell_type": "code",
     "collapsed": false,
     "input": [
      "%timeit foo(deepcopy(t4))\n",
      "foo(deepcopy(t4))"
     ],
     "language": "python",
     "metadata": {},
     "outputs": [
      {
       "output_type": "stream",
       "stream": "stdout",
       "text": [
        "10000 loops, best of 3: 59.7 us per loop\n"
       ]
      },
      {
       "output_type": "pyout",
       "prompt_number": 5,
       "text": [
        "23"
       ]
      }
     ],
     "prompt_number": 5
    },
    {
     "cell_type": "code",
     "collapsed": false,
     "input": [
      "%timeit foo(deepcopy(t15))\n",
      "foo(deepcopy(t15))"
     ],
     "language": "python",
     "metadata": {},
     "outputs": [
      {
       "output_type": "stream",
       "stream": "stdout",
       "text": [
        "1000 loops, best of 3: 435 us per loop\n"
       ]
      },
      {
       "output_type": "pyout",
       "prompt_number": 6,
       "text": [
        "1074"
       ]
      }
     ],
     "prompt_number": 6
    },
    {
     "cell_type": "code",
     "collapsed": false,
     "input": [
      "t100 = [[int(i) for i in(s.strip().split())] for s in open('triangle.txt').readlines()]\n",
      "len(t100)"
     ],
     "language": "python",
     "metadata": {},
     "outputs": [
      {
       "output_type": "pyout",
       "prompt_number": 7,
       "text": [
        "100"
       ]
      }
     ],
     "prompt_number": 7
    },
    {
     "cell_type": "code",
     "collapsed": false,
     "input": [
      "%timeit foo(deepcopy(t100))\n",
      "foo(deepcopy(t100))"
     ],
     "language": "python",
     "metadata": {},
     "outputs": [
      {
       "output_type": "stream",
       "stream": "stdout",
       "text": [
        "100 loops, best of 3: 11.1 ms per loop\n"
       ]
      },
      {
       "output_type": "pyout",
       "prompt_number": 8,
       "text": [
        "7273"
       ]
      }
     ],
     "prompt_number": 8
    },
    {
     "cell_type": "code",
     "collapsed": false,
     "input": [
      "def foo(t):\n",
      "    for i in range(len(t))[::-1]:\n",
      "        r = t[i]\n",
      "        try:\n",
      "            nr = t[i+1]\n",
      "        except IndexError:\n",
      "            for j in range(len(t[i])):\n",
      "                t[i][j] = (t[i][j], None)\n",
      "        else:\n",
      "            for j in range(len(t[i])):\n",
      "                dir = (t[i+1][j+1][0] > t[i+1][j+0][0])\n",
      "                t[i][j] = (t[i][j] + t[i+1][j+dir][0], dir)\n",
      "    return t[0][0][0]"
     ],
     "language": "python",
     "metadata": {},
     "outputs": [],
     "prompt_number": 9
    },
    {
     "cell_type": "code",
     "collapsed": false,
     "input": [
      "%timeit foo(deepcopy(t100))\n",
      "foo(deepcopy(t100))"
     ],
     "language": "python",
     "metadata": {},
     "outputs": [
      {
       "output_type": "stream",
       "stream": "stdout",
       "text": [
        "100 loops, best of 3: 11 ms per loop\n"
       ]
      },
      {
       "output_type": "pyout",
       "prompt_number": 10,
       "text": [
        "7273"
       ]
      }
     ],
     "prompt_number": 10
    },
    {
     "cell_type": "code",
     "collapsed": false,
     "input": [
      "def foo(t):\n",
      "    for i in range(len(t))[::-1]:\n",
      "        r = t[i]\n",
      "        try:\n",
      "            nr = t[i+1]\n",
      "        except IndexError:\n",
      "            pass\n",
      "        else:\n",
      "            for j in range(len(t[i])):\n",
      "                t[i][j] += max(t[i+1][j+0], t[i+1][j+1])\n",
      "    return t[0][0]"
     ],
     "language": "python",
     "metadata": {},
     "outputs": [],
     "prompt_number": 11
    },
    {
     "cell_type": "code",
     "collapsed": false,
     "input": [
      "%timeit foo(deepcopy(t100))\n",
      "foo(deepcopy(t100))"
     ],
     "language": "python",
     "metadata": {},
     "outputs": [
      {
       "output_type": "stream",
       "stream": "stdout",
       "text": [
        "100 loops, best of 3: 9.21 ms per loop\n"
       ]
      },
      {
       "output_type": "pyout",
       "prompt_number": 12,
       "text": [
        "7273"
       ]
      }
     ],
     "prompt_number": 12
    },
    {
     "cell_type": "code",
     "collapsed": false,
     "input": [
      "def foo(t):\n",
      "    for i in range(len(t))[len(t)-2::-1]:\n",
      "        for j in range(len(t[i])):\n",
      "            t[i][j] += max(t[i+1][j+0], t[i+1][j+1])\n",
      "    return t[0][0]"
     ],
     "language": "python",
     "metadata": {},
     "outputs": [],
     "prompt_number": 13
    },
    {
     "cell_type": "code",
     "collapsed": false,
     "input": [
      "%timeit foo(deepcopy(t100))\n",
      "foo(deepcopy(t100))"
     ],
     "language": "python",
     "metadata": {},
     "outputs": [
      {
       "output_type": "stream",
       "stream": "stdout",
       "text": [
        "100 loops, best of 3: 9.23 ms per loop\n"
       ]
      },
      {
       "output_type": "pyout",
       "prompt_number": 14,
       "text": [
        "7273"
       ]
      }
     ],
     "prompt_number": 14
    },
    {
     "cell_type": "code",
     "collapsed": false,
     "input": [
      "from operator import add"
     ],
     "language": "python",
     "metadata": {},
     "outputs": [],
     "prompt_number": 15
    },
    {
     "cell_type": "code",
     "collapsed": false,
     "input": [
      "def foo(t):\n",
      "    for i in range(len(t))[len(t)-2::-1]:\n",
      "        t[i] = map(add, t[i], map(max, t[i+1][1:], t[i+1][:-1]))\n",
      "    return t[0][0]"
     ],
     "language": "python",
     "metadata": {},
     "outputs": [],
     "prompt_number": 16
    },
    {
     "cell_type": "code",
     "collapsed": false,
     "input": [
      "%timeit foo(deepcopy(t100))\n",
      "foo(deepcopy(t100))"
     ],
     "language": "python",
     "metadata": {},
     "outputs": [
      {
       "output_type": "stream",
       "stream": "stdout",
       "text": [
        "100 loops, best of 3: 7.74 ms per loop\n"
       ]
      },
      {
       "output_type": "pyout",
       "prompt_number": 17,
       "text": [
        "7273"
       ]
      }
     ],
     "prompt_number": 17
    },
    {
     "cell_type": "code",
     "collapsed": false,
     "input": [
      "def foo(t):\n",
      "    for i in range(len(t))[len(t)-2::-1]:\n",
      "        t[i] = map((lambda x, y, z: x + max(y, z)), t[i], t[i+1][1:], t[i+1][:-1])\n",
      "    return t[0][0]"
     ],
     "language": "python",
     "metadata": {},
     "outputs": [],
     "prompt_number": 18
    },
    {
     "cell_type": "code",
     "collapsed": false,
     "input": [
      "%timeit foo(deepcopy(t100))\n",
      "foo(deepcopy(t100))"
     ],
     "language": "python",
     "metadata": {},
     "outputs": [
      {
       "output_type": "stream",
       "stream": "stdout",
       "text": [
        "100 loops, best of 3: 8.48 ms per loop\n"
       ]
      },
      {
       "output_type": "pyout",
       "prompt_number": 19,
       "text": [
        "7273"
       ]
      }
     ],
     "prompt_number": 19
    },
    {
     "cell_type": "code",
     "collapsed": false,
     "input": [
      "map(max, range(5), range(2, 5+2))"
     ],
     "language": "python",
     "metadata": {},
     "outputs": [
      {
       "output_type": "pyout",
       "prompt_number": 20,
       "text": [
        "[2, 3, 4, 5, 6]"
       ]
      }
     ],
     "prompt_number": 20
    },
    {
     "cell_type": "code",
     "collapsed": false,
     "input": [
      "range(5)[3::-1]"
     ],
     "language": "python",
     "metadata": {},
     "outputs": [
      {
       "output_type": "pyout",
       "prompt_number": 21,
       "text": [
        "[3, 2, 1, 0]"
       ]
      }
     ],
     "prompt_number": 21
    }
   ],
   "metadata": {}
  }
 ]
}