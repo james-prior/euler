{
 "metadata": {
  "name": "euler-017-number-letter-counts-20130730"
 },
 "nbformat": 3,
 "nbformat_minor": 0,
 "worksheets": [
  {
   "cells": [
    {
     "cell_type": "markdown",
     "metadata": {},
     "source": [
      "If the numbers 1 to 5 are written out in words: one, two, three, four, five, then there are 3 + 3 + 5 + 4 + 4 = 19 letters used in total.  \n",
      "If all the numbers from 1 to 1000 (one thousand) inclusive were written out in words, how many letters would be used?   \n",
      "\n",
      " \n",
      "**NOTE**: Do not count spaces or hyphens. For example, 342 (three hundred and forty-two) contains 23 letters and 115 (one hundred and fifteen) contains 20 letters. The use of \"and\" when writing out numbers is in compliance with British usage.  "
     ]
    },
    {
     "cell_type": "code",
     "collapsed": false,
     "input": [
      "numbers = [\n",
      "    'zero', 'one', 'two', 'three', 'four', 'five', 'six', 'seven', 'eight', 'nine', 'ten', \n",
      "    'eleven', 'twelve', 'thirteen', 'fourteen', 'fifteen', 'sixteen', 'seventeen', 'eighteen', 'nineteen']\n",
      "numbers"
     ],
     "language": "python",
     "metadata": {},
     "outputs": [
      {
       "output_type": "pyout",
       "prompt_number": 1,
       "text": [
        "['zero',\n",
        " 'one',\n",
        " 'two',\n",
        " 'three',\n",
        " 'four',\n",
        " 'five',\n",
        " 'six',\n",
        " 'seven',\n",
        " 'eight',\n",
        " 'nine',\n",
        " 'ten',\n",
        " 'eleven',\n",
        " 'twelve',\n",
        " 'thirteen',\n",
        " 'fourteen',\n",
        " 'fifteen',\n",
        " 'sixteen',\n",
        " 'seventeen',\n",
        " 'eighteen',\n",
        " 'nineteen']"
       ]
      }
     ],
     "prompt_number": 1
    },
    {
     "cell_type": "code",
     "collapsed": false,
     "input": [
      "tens = [None, 'ten', 'twenty', 'thirty', 'forty', 'fifty', 'sixty', 'seventy', 'eighty', 'ninety']\n",
      "tens"
     ],
     "language": "python",
     "metadata": {},
     "outputs": [
      {
       "output_type": "pyout",
       "prompt_number": 2,
       "text": [
        "[None,\n",
        " 'ten',\n",
        " 'twenty',\n",
        " 'thirty',\n",
        " 'forty',\n",
        " 'fifty',\n",
        " 'sixty',\n",
        " 'seventy',\n",
        " 'eighty',\n",
        " 'ninety']"
       ]
      }
     ],
     "prompt_number": 2
    },
    {
     "cell_type": "code",
     "collapsed": false,
     "input": [
      "def foo(i):\n",
      "    w = []\n",
      "    if i >= 1000:\n",
      "        w.append(numbers[i / 1000])\n",
      "        w.append('thousand')\n",
      "        i %= 1000\n",
      "    if i >= 100:\n",
      "        w.append(numbers[i / 100])\n",
      "        w.append('hundred')\n",
      "        i %= 100\n",
      "        if i > 0:\n",
      "            w.append('and')\n",
      "    if i >= 20:\n",
      "        w.append(tens[i / 10])\n",
      "        i %= 10\n",
      "        if i > 0:\n",
      "            w[-1] += '-' + numbers[i]\n",
      "    elif i > 0 or not w:\n",
      "        w.append(numbers[i])\n",
      "    return ' '.join(w)\n",
      "        \n",
      "print foo(1234)\n",
      "print foo(24)\n",
      "print foo(20)\n",
      "print foo(29)\n",
      "print foo(30)\n",
      "print foo(31)\n",
      "print foo(19)\n",
      "print foo(18)\n",
      "print foo(11)\n",
      "print foo(10)\n",
      "print foo(9)\n",
      "print foo(2)\n",
      "print foo(1)\n",
      "print foo(0)\n",
      "print foo(124)\n",
      "print foo(220)\n",
      "print foo(329)\n",
      "print foo(430)\n",
      "print foo(531)\n",
      "print foo(619)\n",
      "print foo(718)\n",
      "print foo(811)\n",
      "print foo(910)\n",
      "print foo(809)\n",
      "print foo(702)\n",
      "print foo(601)\n",
      "print foo(500)\n",
      "print foo(1000)"
     ],
     "language": "python",
     "metadata": {},
     "outputs": [
      {
       "output_type": "stream",
       "stream": "stdout",
       "text": [
        "one thousand two hundred and thirty-four\n",
        "twenty-four\n",
        "twenty\n",
        "twenty-nine\n",
        "thirty\n",
        "thirty-one\n",
        "nineteen\n",
        "eighteen\n",
        "eleven\n",
        "ten\n",
        "nine\n",
        "two\n",
        "one\n",
        "zero\n",
        "one hundred and twenty-four\n",
        "two hundred and twenty\n",
        "three hundred and twenty-nine\n",
        "four hundred and thirty\n",
        "five hundred and thirty-one\n",
        "six hundred and nineteen\n",
        "seven hundred and eighteen\n",
        "eight hundred and eleven\n",
        "nine hundred and ten\n",
        "eight hundred and nine\n",
        "seven hundred and two\n",
        "six hundred and one\n",
        "five hundred\n",
        "one thousand\n"
       ]
      }
     ],
     "prompt_number": 3
    },
    {
     "cell_type": "code",
     "collapsed": false,
     "input": [
      "n = 1000\n",
      "%timeit len(filter((lambda x: x if x != ' ' and x !='-' else ''), ''.join([foo(i) for i in range(1, n + 1)])))\n",
      "len(filter((lambda x: x if x != ' ' and x !='-' else ''), ''.join([foo(i) for i in range(1, n + 1)])))"
     ],
     "language": "python",
     "metadata": {},
     "outputs": [
      {
       "output_type": "stream",
       "stream": "stdout",
       "text": [
        "100 loops, best of 3: 11.2 ms per loop\n"
       ]
      },
      {
       "output_type": "pyout",
       "prompt_number": 4,
       "text": [
        "21124"
       ]
      }
     ],
     "prompt_number": 4
    }
   ],
   "metadata": {}
  }
 ]
}