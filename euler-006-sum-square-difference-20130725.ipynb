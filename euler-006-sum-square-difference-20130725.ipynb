{
 "metadata": {
  "name": "euler-006-sum-square-difference-20130725"
 },
 "nbformat": 3,
 "nbformat_minor": 0,
 "worksheets": [
  {
   "cells": [
    {
     "cell_type": "code",
     "collapsed": false,
     "input": [
      "a = xrange(1, 100 + 1)\n",
      "sq = (lambda x: x*x)\n",
      "%timeit abs(sum(map(sq, a)) - sq(sum(a)))\n",
      "abs(sum(map(sq, a)) - sq(sum(a)))"
     ],
     "language": "python",
     "metadata": {},
     "outputs": [
      {
       "output_type": "stream",
       "stream": "stdout",
       "text": [
        "10000 loops, best of 3: 32.7 us per loop\n"
       ]
      },
      {
       "output_type": "pyout",
       "prompt_number": 1,
       "text": [
        "25164150"
       ]
      }
     ],
     "prompt_number": 1
    }
   ],
   "metadata": {}
  }
 ]
}