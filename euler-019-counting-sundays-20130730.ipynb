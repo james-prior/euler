{
 "metadata": {
  "name": "euler-019-counting-sundays-20130730"
 },
 "nbformat": 3,
 "nbformat_minor": 0,
 "worksheets": [
  {
   "cells": [
    {
     "cell_type": "markdown",
     "metadata": {},
     "source": [
      "You are given the following information, but you may prefer to do some research for yourself.  \n",
      "\n",
      "* 1 Jan 1900 was a Monday.\n",
      "* Thirty days has September,  \n",
      "  April, June and November.  \n",
      "  All the rest have thirty-one,  \n",
      "  Saving February alone,  \n",
      "  Which has twenty-eight, rain or shine.  \n",
      "  And on leap years, twenty-nine.  \n",
      "* A leap year occurs on any year evenly divisible by 4, but not on a century unless it is divisible by 400.  \n",
      "\n",
      "How many Sundays fell on the first of the month during the twentieth century (1 Jan 1901 to 31 Dec 2000)?"
     ]
    },
    {
     "cell_type": "code",
     "collapsed": false,
     "input": [
      "leap     = [0, 31, 29, 31, 30, 31, 30, 31, 31, 30, 31, 30, 31]\n",
      "non_leap = [0, 31, 28, 31, 30, 31, 30, 31, 31, 30, 31, 30, 31]"
     ],
     "language": "python",
     "metadata": {},
     "outputs": [],
     "prompt_number": 1
    },
    {
     "cell_type": "code",
     "collapsed": false,
     "input": [
      "def month_length(year, month):\n",
      "    if year % 4 == 0:\n",
      "        a = leap\n",
      "    else:\n",
      "        a = non_leap\n",
      "    return a[month]"
     ],
     "language": "python",
     "metadata": {},
     "outputs": [],
     "prompt_number": 2
    },
    {
     "cell_type": "code",
     "collapsed": false,
     "input": [
      "!cal 1 1901"
     ],
     "language": "python",
     "metadata": {},
     "outputs": [
      {
       "output_type": "stream",
       "stream": "stdout",
       "text": [
        "    January 1901      \r\n",
        "Su Mo Tu We Th Fr Sa  \r\n",
        "       1  2  3  4  5  \r\n",
        " 6  7  8  9 10 11 12  \r\n",
        "13 14 15 16 17 18 19  \r\n",
        "20 21 22 23 24 25 26  \r\n",
        "27 28 29 30 31        \r\n",
        "                      \r\n"
       ]
      }
     ],
     "prompt_number": 3
    },
    {
     "cell_type": "code",
     "collapsed": false,
     "input": [
      "def foo(century):    \n",
      "    number_of_sundays = 0\n",
      "    if century == 20:\n",
      "        dow = 2  # Tuesday (0 is Sunday)\n",
      "    for year in range(100 * (century - 1) + 1, 100 * century + 1):\n",
      "        # print year, \n",
      "        for month in range(1, 12 + 1):\n",
      "            if dow % 7 == 0:\n",
      "                number_of_sundays += 1\n",
      "            # print (month, dow % 7, number_of_sundays), \n",
      "            dow += month_length(year, month)\n",
      "        # print\n",
      "    return number_of_sundays"
     ],
     "language": "python",
     "metadata": {},
     "outputs": [],
     "prompt_number": 4
    },
    {
     "cell_type": "code",
     "collapsed": false,
     "input": [
      "%timeit foo(20)\n",
      "foo(20)"
     ],
     "language": "python",
     "metadata": {},
     "outputs": [
      {
       "output_type": "stream",
       "stream": "stdout",
       "text": [
        "1000 loops, best of 3: 806 us per loop\n"
       ]
      },
      {
       "output_type": "pyout",
       "prompt_number": 5,
       "text": [
        "171"
       ]
      }
     ],
     "prompt_number": 5
    },
    {
     "cell_type": "code",
     "collapsed": false,
     "input": [
      "leap     = [31, 29, 31, 30, 31, 30, 31, 31, 30, 31, 30, 31]\n",
      "non_leap = [31, 28, 31, 30, 31, 30, 31, 31, 30, 31, 30, 31]"
     ],
     "language": "python",
     "metadata": {},
     "outputs": [],
     "prompt_number": 6
    },
    {
     "cell_type": "code",
     "collapsed": false,
     "input": [
      "def month_length(year, month):\n",
      "    return (leap if year % 4 == 0 else non_leap)[month]"
     ],
     "language": "python",
     "metadata": {},
     "outputs": [],
     "prompt_number": 7
    },
    {
     "cell_type": "code",
     "collapsed": false,
     "input": [
      "month_length(2000, 1)"
     ],
     "language": "python",
     "metadata": {},
     "outputs": [
      {
       "output_type": "pyout",
       "prompt_number": 8,
       "text": [
        "29"
       ]
      }
     ],
     "prompt_number": 8
    },
    {
     "cell_type": "code",
     "collapsed": false,
     "input": [
      "def running_sum(x, init=0):\n",
      "    sum = init\n",
      "    for i in x:\n",
      "        yield sum\n",
      "        sum += i"
     ],
     "language": "python",
     "metadata": {},
     "outputs": [],
     "prompt_number": 9
    },
    {
     "cell_type": "code",
     "collapsed": false,
     "input": [
      "from itertools import product"
     ],
     "language": "python",
     "metadata": {},
     "outputs": [],
     "prompt_number": 10
    },
    {
     "cell_type": "code",
     "collapsed": false,
     "input": [
      "%timeit sum(map((lambda x: x % 7 == 0), running_sum(map((lambda x: (leap if x[0] % 4 == 0 else non_leap)[x[1]]), product(range(1901, 2000 + 1), range(12))), init=2)))\n",
      "sum(map((lambda x: x % 7 == 0), running_sum(map((lambda x: (leap if x[0] % 4 == 0 else non_leap)[x[1]]), product(range(1901, 2000 + 1), range(12))), init=2)))"
     ],
     "language": "python",
     "metadata": {},
     "outputs": [
      {
       "output_type": "stream",
       "stream": "stdout",
       "text": [
        "1000 loops, best of 3: 1.25 ms per loop\n"
       ]
      },
      {
       "output_type": "pyout",
       "prompt_number": 11,
       "text": [
        "171"
       ]
      }
     ],
     "prompt_number": 11
    }
   ],
   "metadata": {}
  }
 ]
}