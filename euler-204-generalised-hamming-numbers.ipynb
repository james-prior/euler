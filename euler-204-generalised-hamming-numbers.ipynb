{
 "cells": [
  {
   "cell_type": "markdown",
   "metadata": {
    "deletable": true,
    "editable": true
   },
   "source": [
    "[Project Euler](https://projecteuler.net/)\n",
    "\n",
    "#### Generalised Hamming Numbers\n",
    "\n",
    "\n",
    "[Problem 204](https://projecteuler.net/problem=204)"
   ]
  },
  {
   "cell_type": "markdown",
   "metadata": {
    "deletable": true,
    "editable": true
   },
   "source": [
    "A Hamming number is a positive number which has no prime factor larger than 5.\n",
    "So the first few Hamming numbers are 1, 2, 3, 4, 5, 6, 8, 9, 10, 12, 15.\n",
    "There are 1105 Hamming numbers not exceeding 10<sup>8</sup>.\n",
    "\n",
    "We will call a positive number a generalised Hamming number of type n, if it has no prime factor larger than n.\n",
    "Hence the Hamming numbers are the generalised Hamming numbers of type 5.\n",
    "\n",
    "How many generalised Hamming numbers of type 100 are there which don't exceed 10<sup>9</sup>?"
   ]
  },
  {
   "cell_type": "markdown",
   "metadata": {
    "deletable": true,
    "editable": true
   },
   "source": [
    "The recent email starting with \n",
    "[this one](https://mail.python.org/pipermail/centraloh/2017-October/003185.html),\n",
    "led to someone mentioning Project Euler Problem #204,\n",
    "so I am playing with Project Euler once again."
   ]
  },
  {
   "cell_type": "code",
   "execution_count": 1,
   "metadata": {
    "collapsed": true,
    "deletable": true,
    "editable": true
   },
   "outputs": [],
   "source": [
    "MAX_PRIME = 100\n",
    "MAX_SMOOTH = 10**9"
   ]
  },
  {
   "cell_type": "code",
   "execution_count": 2,
   "metadata": {
    "collapsed": true,
    "deletable": true,
    "editable": true
   },
   "outputs": [],
   "source": [
    "def is_prime(x):\n",
    "    return all(x % divisor != 0 for divisor in range(2, x))"
   ]
  },
  {
   "cell_type": "code",
   "execution_count": 3,
   "metadata": {
    "collapsed": false,
    "deletable": true,
    "editable": true
   },
   "outputs": [],
   "source": [
    "primes = tuple(x for x in range(2, MAX_PRIME+1) if is_prime(x))"
   ]
  },
  {
   "cell_type": "code",
   "execution_count": 4,
   "metadata": {
    "collapsed": true,
    "deletable": true,
    "editable": true
   },
   "outputs": [],
   "source": [
    "def n_smooth_numbers(n, x, primes, max_smooth):\n",
    "    if not primes:\n",
    "        return n\n",
    "    while True:\n",
    "        n = n_smooth_numbers(n, x, primes[1:], max_smooth)\n",
    "        x *= primes[0]\n",
    "        if x > max_smooth:\n",
    "            return n\n",
    "        n += 1"
   ]
  },
  {
   "cell_type": "code",
   "execution_count": 5,
   "metadata": {
    "collapsed": false,
    "deletable": true,
    "editable": true
   },
   "outputs": [
    {
     "data": {
      "text/plain": [
       "18"
      ]
     },
     "execution_count": 5,
     "metadata": {},
     "output_type": "execute_result"
    }
   ],
   "source": [
    "n_smooth_numbers(1, 1, (2, 3, 5), 30)"
   ]
  },
  {
   "cell_type": "code",
   "execution_count": 6,
   "metadata": {
    "collapsed": true,
    "deletable": true,
    "editable": true
   },
   "outputs": [],
   "source": [
    "def foo():\n",
    "    return n_smooth_numbers(1, 1, primes, MAX_SMOOTH)"
   ]
  },
  {
   "cell_type": "code",
   "execution_count": 7,
   "metadata": {
    "collapsed": false,
    "deletable": true,
    "editable": true
   },
   "outputs": [
    {
     "name": "stdout",
     "output_type": "stream",
     "text": [
      "1 loop, best of 3: 25.1 s per loop\n"
     ]
    },
    {
     "data": {
      "text/plain": [
       "2944730"
      ]
     },
     "execution_count": 7,
     "metadata": {},
     "output_type": "execute_result"
    }
   ],
   "source": [
    "%timeit foo()\n",
    "foo()"
   ]
  },
  {
   "cell_type": "markdown",
   "metadata": {
    "deletable": true,
    "editable": true
   },
   "source": [
    "Using default values for n and x makes the first call easier\n",
    "and the execution speed slower."
   ]
  },
  {
   "cell_type": "code",
   "execution_count": 8,
   "metadata": {
    "collapsed": true,
    "deletable": true,
    "editable": true
   },
   "outputs": [],
   "source": [
    "def n_smooth_numbers(primes, max_smooth, n=1, x=1):\n",
    "    if not primes:\n",
    "        return n\n",
    "    while True:\n",
    "        n = n_smooth_numbers(primes[1:], max_smooth, n, x)\n",
    "        x *= primes[0]\n",
    "        if x > max_smooth:\n",
    "            return n\n",
    "        n += 1"
   ]
  },
  {
   "cell_type": "code",
   "execution_count": 9,
   "metadata": {
    "collapsed": false,
    "deletable": true,
    "editable": true
   },
   "outputs": [
    {
     "data": {
      "text/plain": [
       "18"
      ]
     },
     "execution_count": 9,
     "metadata": {},
     "output_type": "execute_result"
    }
   ],
   "source": [
    "n_smooth_numbers((2, 3, 5), 30)"
   ]
  },
  {
   "cell_type": "code",
   "execution_count": 10,
   "metadata": {
    "collapsed": true,
    "deletable": true,
    "editable": true
   },
   "outputs": [],
   "source": [
    "def foo():\n",
    "    return n_smooth_numbers(primes, MAX_SMOOTH)"
   ]
  },
  {
   "cell_type": "code",
   "execution_count": 11,
   "metadata": {
    "collapsed": false,
    "deletable": true,
    "editable": true
   },
   "outputs": [
    {
     "name": "stdout",
     "output_type": "stream",
     "text": [
      "1 loop, best of 3: 26.4 s per loop\n"
     ]
    },
    {
     "data": {
      "text/plain": [
       "2944730"
      ]
     },
     "execution_count": 11,
     "metadata": {},
     "output_type": "execute_result"
    }
   ],
   "source": [
    "%timeit foo()\n",
    "foo()"
   ]
  },
  {
   "cell_type": "markdown",
   "metadata": {
    "deletable": true,
    "editable": true
   },
   "source": [
    "Using tuple unpacking below makes the code easier to readn and slower."
   ]
  },
  {
   "cell_type": "code",
   "execution_count": 12,
   "metadata": {
    "collapsed": true,
    "deletable": true,
    "editable": true
   },
   "outputs": [],
   "source": [
    "def n_smooth_numbers(primes, max_smooth, n=1, x=1):\n",
    "    if not primes:\n",
    "        return n\n",
    "    first_prime, *other_primes = primes\n",
    "    while True:\n",
    "        n = n_smooth_numbers(other_primes, max_smooth, n, x)\n",
    "        x *= first_prime\n",
    "        if x > max_smooth:\n",
    "            return n\n",
    "        n += 1"
   ]
  },
  {
   "cell_type": "code",
   "execution_count": 13,
   "metadata": {
    "collapsed": false,
    "deletable": true,
    "editable": true
   },
   "outputs": [
    {
     "data": {
      "text/plain": [
       "18"
      ]
     },
     "execution_count": 13,
     "metadata": {},
     "output_type": "execute_result"
    }
   ],
   "source": [
    "n_smooth_numbers((2, 3, 5), 30)"
   ]
  },
  {
   "cell_type": "code",
   "execution_count": 14,
   "metadata": {
    "collapsed": true,
    "deletable": true,
    "editable": true
   },
   "outputs": [],
   "source": [
    "def foo():\n",
    "    return n_smooth_numbers(primes, MAX_SMOOTH)"
   ]
  },
  {
   "cell_type": "code",
   "execution_count": 15,
   "metadata": {
    "collapsed": false,
    "deletable": true,
    "editable": true
   },
   "outputs": [
    {
     "name": "stdout",
     "output_type": "stream",
     "text": [
      "1 loop, best of 3: 32.1 s per loop\n"
     ]
    },
    {
     "data": {
      "text/plain": [
       "2944730"
      ]
     },
     "execution_count": 15,
     "metadata": {},
     "output_type": "execute_result"
    }
   ],
   "source": [
    "%timeit foo()\n",
    "foo()"
   ]
  }
 ],
 "metadata": {
  "kernelspec": {
   "display_name": "Python 3",
   "language": "python",
   "name": "python3"
  },
  "language_info": {
   "codemirror_mode": {
    "name": "ipython",
    "version": 3
   },
   "file_extension": ".py",
   "mimetype": "text/x-python",
   "name": "python",
   "nbconvert_exporter": "python",
   "pygments_lexer": "ipython3",
   "version": "3.6.0"
  }
 },
 "nbformat": 4,
 "nbformat_minor": 2
}
