{
 "metadata": {
  "name": "euler-028-number-spiral-diagonals-20130801"
 },
 "nbformat": 3,
 "nbformat_minor": 0,
 "worksheets": [
  {
   "cells": [
    {
     "cell_type": "markdown",
     "metadata": {},
     "source": [
      "Starting with the number 1 and moving to the right in a clockwise direction a 5 by 5 spiral is formed as follows:  \n",
      "\n",
      "> 21 22 23 24 25  \n",
      "> 20  7  8  9 10  \n",
      "> 19  6  1  2 11  \n",
      "> 18  5  4  3 12  \n",
      "> 17 16 15 14 13  \n",
      "\n",
      "It can be verified that the sum of the numbers on the diagonals is 101.  \n",
      "\n",
      "What is the sum of the numbers on the diagonals in a 1001 by 1001 spiral formed in the same way?"
     ]
    },
    {
     "cell_type": "code",
     "collapsed": false,
     "input": [
      "def foo(n):\n",
      "    total = 1\n",
      "    i = 1\n",
      "    increment = 2\n",
      "    n -= 1\n",
      "    while n > 0:\n",
      "        i += increment\n",
      "        total += i\n",
      "        i += increment\n",
      "        total += i\n",
      "        i += increment\n",
      "        total += i\n",
      "        i += increment\n",
      "        total += i\n",
      "        increment += 2\n",
      "        n -= 2\n",
      "    return total"
     ],
     "language": "python",
     "metadata": {},
     "outputs": [],
     "prompt_number": 1
    },
    {
     "cell_type": "code",
     "collapsed": false,
     "input": [
      "print foo(1)\n",
      "print foo(3)\n",
      "print foo(5)\n",
      "print foo(7)\n",
      "print foo(9)\n",
      "print foo(11)"
     ],
     "language": "python",
     "metadata": {},
     "outputs": [
      {
       "output_type": "stream",
       "stream": "stdout",
       "text": [
        "1\n",
        "25\n",
        "101\n",
        "261\n",
        "537\n",
        "961\n"
       ]
      }
     ],
     "prompt_number": 2
    },
    {
     "cell_type": "code",
     "collapsed": false,
     "input": [
      "n = 1001\n",
      "%timeit foo(n)\n",
      "foo(n)"
     ],
     "language": "python",
     "metadata": {},
     "outputs": [
      {
       "output_type": "stream",
       "stream": "stdout",
       "text": [
        "1000 loops, best of 3: 318 us per loop\n"
       ]
      },
      {
       "output_type": "pyout",
       "prompt_number": 3,
       "text": [
        "669171001"
       ]
      }
     ],
     "prompt_number": 3
    },
    {
     "cell_type": "code",
     "collapsed": false,
     "input": [
      "def foo(n):\n",
      "    total = 1\n",
      "    a = -12\n",
      "    b = 4\n",
      "    n -= 1\n",
      "    while n > 0:\n",
      "        a += 32\n",
      "        b += a\n",
      "        total += b\n",
      "        n -= 2\n",
      "    return total"
     ],
     "language": "python",
     "metadata": {},
     "outputs": [],
     "prompt_number": 4
    },
    {
     "cell_type": "code",
     "collapsed": false,
     "input": [
      "n = 1001\n",
      "%timeit foo(n)\n",
      "foo(n)"
     ],
     "language": "python",
     "metadata": {},
     "outputs": [
      {
       "output_type": "stream",
       "stream": "stdout",
       "text": [
        "10000 loops, best of 3: 159 us per loop\n"
       ]
      },
      {
       "output_type": "pyout",
       "prompt_number": 5,
       "text": [
        "669171001"
       ]
      }
     ],
     "prompt_number": 5
    },
    {
     "cell_type": "code",
     "collapsed": false,
     "input": [
      "def foo(n):\n",
      "    total = 1\n",
      "    i = 1\n",
      "    increment = 2\n",
      "    n -= 1\n",
      "    while n > 0:\n",
      "        total += 4 * i + 10 * increment\n",
      "        i += 4 * increment\n",
      "        increment += 2\n",
      "        n -= 2\n",
      "    return total"
     ],
     "language": "python",
     "metadata": {},
     "outputs": [],
     "prompt_number": 6
    },
    {
     "cell_type": "code",
     "collapsed": false,
     "input": [
      "n = 1001\n",
      "%timeit foo(n)\n",
      "foo(n)"
     ],
     "language": "python",
     "metadata": {},
     "outputs": [
      {
       "output_type": "stream",
       "stream": "stdout",
       "text": [
        "1000 loops, best of 3: 286 us per loop\n"
       ]
      },
      {
       "output_type": "pyout",
       "prompt_number": 7,
       "text": [
        "669171001"
       ]
      }
     ],
     "prompt_number": 7
    }
   ],
   "metadata": {}
  }
 ]
}