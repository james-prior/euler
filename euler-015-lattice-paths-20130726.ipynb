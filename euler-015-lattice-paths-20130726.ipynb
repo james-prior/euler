{
 "metadata": {
  "name": "euler-015-lattice-paths-20130726"
 },
 "nbformat": 3,
 "nbformat_minor": 0,
 "worksheets": [
  {
   "cells": [
    {
     "cell_type": "code",
     "collapsed": false,
     "input": [
      "def foo(n):\n",
      "    a = [1]\n",
      "    for i in range(n):\n",
      "        a = map((lambda x, y: x + y), a + [0], [0] + a)\n",
      "    return sum(map((lambda x: x*x), a))"
     ],
     "language": "python",
     "metadata": {},
     "outputs": [],
     "prompt_number": 1
    },
    {
     "cell_type": "code",
     "collapsed": false,
     "input": [
      "%timeit foo(20)\n",
      "foo(20)"
     ],
     "language": "python",
     "metadata": {},
     "outputs": [
      {
       "output_type": "stream",
       "stream": "stdout",
       "text": [
        "10000 loops, best of 3: 120 us per loop\n"
       ]
      },
      {
       "output_type": "pyout",
       "prompt_number": 2,
       "text": [
        "137846528820L"
       ]
      }
     ],
     "prompt_number": 2
    }
   ],
   "metadata": {}
  }
 ]
}