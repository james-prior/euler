{
 "cells": [
  {
   "cell_type": "markdown",
   "metadata": {
    "deletable": true,
    "editable": true
   },
   "source": [
    "[Project Euler](https://projecteuler.net/)\n",
    "\n",
    "#### Maximum path sum I\n",
    "\n",
    "\n",
    "[Problem 18](https://projecteuler.net/problem=18)"
   ]
  },
  {
   "cell_type": "markdown",
   "metadata": {
    "deletable": true,
    "editable": true
   },
   "source": [
    "By starting at the top of the triangle below and moving to adjacent numbers on the row below, the maximum total from top to bottom is 23.  \n",
    "\n",
    "<style TYPE=\"text/css\">\n",
    "p { text-align: center }\n",
    "</style>\n",
    "\n",
    "<p>\n",
    "**3**  \n",
    " **7** 4  \n",
    " 2 **4** 6  \n",
    " 8 5 **9** 3  \n",
    "</p>\n",
    " \n",
    "That is, 3 + 7 + 4 + 9 = 23.   \n",
    "\n",
    "Find the maximum total from top to bottom of the triangle below:  \n",
    "\n",
    "<center>\n",
    "75  \n",
    " 95 64  \n",
    " 17 47 82  \n",
    " 18 35 87 10  \n",
    " 20 04 82 47 65  \n",
    " 19 01 23 75 03 34  \n",
    " 88 02 77 73 07 63 67  \n",
    " 99 65 04 28 06 16 70 92  \n",
    " 41 41 26 56 83 40 80 70 33  \n",
    " 41 48 72 33 47 32 37 16 94 29  \n",
    " 53 71 44 65 25 43 91 52 97 51 14  \n",
    " 70 11 33 28 77 73 17 78 39 68 17 57  \n",
    " 91 71 52 38 17 14 91 43 58 50 27 29 48  \n",
    " 63 66 04 68 89 53 67 30 73 16 69 87 40 31  \n",
    " 04 62 98 27 23 09 70 98 73 93 38 53 60 04 23  \n",
    "</center>\n",
    " \n",
    "NOTE: As there are only 16384 routes, it is possible to solve this problem by trying every route. However, Problem 67, is the same challenge with a triangle containing one-hundred rows; it cannot be solved by brute force, and requires a clever method! ;o)"
   ]
  },
  {
   "cell_type": "code",
   "execution_count": 1,
   "metadata": {
    "collapsed": false,
    "deletable": true,
    "editable": true
   },
   "outputs": [
    {
     "data": {
      "text/plain": [
       "[[3], [7, 4], [2, 4, 6], [8, 5, 9, 3]]"
      ]
     },
     "execution_count": 1,
     "metadata": {},
     "output_type": "execute_result"
    }
   ],
   "source": [
    "t4 = [\n",
    "          [3],\n",
    "        [7,  4],\n",
    "      [2,  4,  6],\n",
    "    [8,  5,  9,  3],\n",
    "]\n",
    "t4"
   ]
  },
  {
   "cell_type": "code",
   "execution_count": 2,
   "metadata": {
    "collapsed": false,
    "deletable": true,
    "editable": true
   },
   "outputs": [
    {
     "data": {
      "text/plain": [
       "15"
      ]
     },
     "execution_count": 2,
     "metadata": {},
     "output_type": "execute_result"
    }
   ],
   "source": [
    "t15 = [\n",
    "                                [75],\n",
    "                              [95, 64],\n",
    "                            [17, 47, 82],\n",
    "                          [18, 35, 87, 10],\n",
    "                        [20,  4, 82, 47, 65],\n",
    "                      [19,  1, 23, 75,  3, 34],\n",
    "                    [88,  2, 77, 73,  7, 63, 67],\n",
    "                  [99, 65,  4, 28,  6, 16, 70, 92],\n",
    "                [41, 41, 26, 56, 83, 40, 80, 70, 33],\n",
    "              [41, 48, 72, 33, 47, 32, 37, 16, 94, 29],\n",
    "            [53, 71, 44, 65, 25, 43, 91, 52, 97, 51, 14],\n",
    "          [70, 11, 33, 28, 77, 73, 17, 78, 39, 68, 17, 57],\n",
    "        [91, 71, 52, 38, 17, 14, 91, 43, 58, 50, 27, 29, 48],\n",
    "      [63, 66,  4, 68, 89, 53, 67, 30, 73, 16, 69, 87, 40, 31],\n",
    "    [ 4, 62, 98, 27, 23,  9, 70, 98, 73, 93, 38, 53, 60,  4, 23],\n",
    "]\n",
    "len(t15)"
   ]
  },
  {
   "cell_type": "code",
   "execution_count": 3,
   "metadata": {
    "collapsed": true,
    "deletable": true,
    "editable": true
   },
   "outputs": [],
   "source": [
    "from copy import deepcopy"
   ]
  },
  {
   "cell_type": "code",
   "execution_count": 4,
   "metadata": {
    "collapsed": true,
    "deletable": true,
    "editable": true
   },
   "outputs": [],
   "source": [
    "def foo(t):\n",
    "    t = deepcopy(t)\n",
    "    for i in range(len(t))[::-1]:\n",
    "        r = t[i]\n",
    "        try:\n",
    "            nr = t[i+1]\n",
    "        except IndexError:\n",
    "            for j in range(len(t[i])):\n",
    "                t[i][j] = (t[i][j], None)\n",
    "        else:\n",
    "            for j in range(len(t[i])):\n",
    "                dir = (t[i+1][j+1][0] > t[i+1][j+0][0])\n",
    "                t[i][j] = (t[i][j] + t[i+1][j+dir][0], dir)\n",
    "    return t[0][0][0]"
   ]
  },
  {
   "cell_type": "code",
   "execution_count": 5,
   "metadata": {
    "collapsed": false,
    "deletable": true,
    "editable": true
   },
   "outputs": [
    {
     "name": "stdout",
     "output_type": "stream",
     "text": [
      "10000 loops, best of 3: 54.8 µs per loop\n"
     ]
    },
    {
     "data": {
      "text/plain": [
       "23"
      ]
     },
     "execution_count": 5,
     "metadata": {},
     "output_type": "execute_result"
    }
   ],
   "source": [
    "n = t4\n",
    "%timeit foo(n)\n",
    "foo(n)"
   ]
  },
  {
   "cell_type": "code",
   "execution_count": 6,
   "metadata": {
    "collapsed": false,
    "deletable": true,
    "editable": true
   },
   "outputs": [
    {
     "name": "stdout",
     "output_type": "stream",
     "text": [
      "1000 loops, best of 3: 396 µs per loop\n"
     ]
    },
    {
     "data": {
      "text/plain": [
       "1074"
      ]
     },
     "execution_count": 6,
     "metadata": {},
     "output_type": "execute_result"
    }
   ],
   "source": [
    "n = t15\n",
    "%timeit foo(n)\n",
    "foo(n)"
   ]
  },
  {
   "cell_type": "markdown",
   "metadata": {
    "deletable": true,
    "editable": true
   },
   "source": [
    "Let's try a somewhat functional approach.\n",
    "It is much easier to understand.\n",
    "I like that."
   ]
  },
  {
   "cell_type": "code",
   "execution_count": 7,
   "metadata": {
    "collapsed": true,
    "deletable": true,
    "editable": true
   },
   "outputs": [],
   "source": [
    "def foo(t):\n",
    "    old_row = []\n",
    "    for row in t:\n",
    "        stagger_max = map(max, zip([0] + old_row, old_row + [0]))\n",
    "        old_row = list(map(sum, zip(stagger_max, row)))\n",
    "   \n",
    "    return max(old_row)"
   ]
  },
  {
   "cell_type": "code",
   "execution_count": 8,
   "metadata": {
    "collapsed": false,
    "deletable": true,
    "editable": true
   },
   "outputs": [
    {
     "name": "stdout",
     "output_type": "stream",
     "text": [
      "100000 loops, best of 3: 18.2 µs per loop\n"
     ]
    },
    {
     "data": {
      "text/plain": [
       "23"
      ]
     },
     "execution_count": 8,
     "metadata": {},
     "output_type": "execute_result"
    }
   ],
   "source": [
    "n = t4\n",
    "%timeit foo(n)\n",
    "foo(n)"
   ]
  },
  {
   "cell_type": "code",
   "execution_count": 9,
   "metadata": {
    "collapsed": false,
    "deletable": true,
    "editable": true
   },
   "outputs": [
    {
     "name": "stdout",
     "output_type": "stream",
     "text": [
      "10000 loops, best of 3: 120 µs per loop\n"
     ]
    },
    {
     "data": {
      "text/plain": [
       "1074"
      ]
     },
     "execution_count": 9,
     "metadata": {},
     "output_type": "execute_result"
    }
   ],
   "source": [
    "n = t15\n",
    "%timeit foo(n)\n",
    "foo(n)"
   ]
  },
  {
   "cell_type": "markdown",
   "metadata": {
    "deletable": true,
    "editable": true
   },
   "source": [
    "Try tuples instead of lists.\n",
    "It's a little bit faster and still readable.\n",
    "That's a good combination."
   ]
  },
  {
   "cell_type": "code",
   "execution_count": 10,
   "metadata": {
    "collapsed": true,
    "deletable": true,
    "editable": true
   },
   "outputs": [],
   "source": [
    "def foo(t):\n",
    "    old_row = tuple()\n",
    "    for row in t:\n",
    "        stagger_max = map(max, zip((0,) + old_row, old_row + (0,)))\n",
    "        old_row = tuple(map(sum, zip(stagger_max, row)))\n",
    "   \n",
    "    return max(old_row)"
   ]
  },
  {
   "cell_type": "code",
   "execution_count": 11,
   "metadata": {
    "collapsed": false,
    "deletable": true,
    "editable": true
   },
   "outputs": [
    {
     "name": "stdout",
     "output_type": "stream",
     "text": [
      "100000 loops, best of 3: 17.8 µs per loop\n"
     ]
    },
    {
     "data": {
      "text/plain": [
       "23"
      ]
     },
     "execution_count": 11,
     "metadata": {},
     "output_type": "execute_result"
    }
   ],
   "source": [
    "n = t4\n",
    "%timeit foo(n)\n",
    "foo(n)"
   ]
  },
  {
   "cell_type": "code",
   "execution_count": 12,
   "metadata": {
    "collapsed": false,
    "deletable": true,
    "editable": true
   },
   "outputs": [
    {
     "name": "stdout",
     "output_type": "stream",
     "text": [
      "10000 loops, best of 3: 115 µs per loop\n"
     ]
    },
    {
     "data": {
      "text/plain": [
       "1074"
      ]
     },
     "execution_count": 12,
     "metadata": {},
     "output_type": "execute_result"
    }
   ],
   "source": [
    "n = t15\n",
    "%timeit foo(n)\n",
    "foo(n)"
   ]
  },
  {
   "cell_type": "markdown",
   "metadata": {
    "deletable": true,
    "editable": true
   },
   "source": [
    "Convert t4 and t15 to be tuples instead of lists.\n",
    "This does not affect readability.\n",
    "It is faster yet."
   ]
  },
  {
   "cell_type": "code",
   "execution_count": 13,
   "metadata": {
    "collapsed": true,
    "deletable": true,
    "editable": true
   },
   "outputs": [],
   "source": [
    "t4 = tuple(tuple(row) for row in t4)\n",
    "t15 = tuple(tuple(row) for row in t15)"
   ]
  },
  {
   "cell_type": "code",
   "execution_count": 14,
   "metadata": {
    "collapsed": true,
    "deletable": true,
    "editable": true
   },
   "outputs": [],
   "source": [
    "def foo(t):\n",
    "    old_row = tuple()\n",
    "    for row in t:\n",
    "        stagger_max = map(max, zip((0,) + old_row, old_row + (0,)))\n",
    "        old_row = tuple(map(sum, zip(stagger_max, row)))\n",
    "   \n",
    "    return max(old_row)"
   ]
  },
  {
   "cell_type": "code",
   "execution_count": 15,
   "metadata": {
    "collapsed": false,
    "deletable": true,
    "editable": true
   },
   "outputs": [
    {
     "name": "stdout",
     "output_type": "stream",
     "text": [
      "100000 loops, best of 3: 17.1 µs per loop\n"
     ]
    },
    {
     "data": {
      "text/plain": [
       "23"
      ]
     },
     "execution_count": 15,
     "metadata": {},
     "output_type": "execute_result"
    }
   ],
   "source": [
    "n = t4\n",
    "%timeit foo(n)\n",
    "foo(n)"
   ]
  },
  {
   "cell_type": "code",
   "execution_count": 16,
   "metadata": {
    "collapsed": false,
    "deletable": true,
    "editable": true
   },
   "outputs": [
    {
     "name": "stdout",
     "output_type": "stream",
     "text": [
      "10000 loops, best of 3: 114 µs per loop\n"
     ]
    },
    {
     "data": {
      "text/plain": [
       "1074"
      ]
     },
     "execution_count": 16,
     "metadata": {},
     "output_type": "execute_result"
    }
   ],
   "source": [
    "n = t15\n",
    "%timeit foo(n)\n",
    "foo(n)"
   ]
  },
  {
   "cell_type": "markdown",
   "metadata": {
    "deletable": true,
    "editable": true
   },
   "source": [
    "I like cell 7 the most.\n",
    "For me, its lists are more readable than tuples."
   ]
  },
  {
   "cell_type": "markdown",
   "metadata": {
    "deletable": true,
    "editable": true
   },
   "source": [
    "2017-09-02 Now I play some more."
   ]
  },
  {
   "cell_type": "markdown",
   "metadata": {
    "deletable": true,
    "editable": true
   },
   "source": [
    "First, Consolidate the body of the loop into a single ugly long statement.\n",
    "It is a little bit faster."
   ]
  },
  {
   "cell_type": "code",
   "execution_count": 17,
   "metadata": {
    "collapsed": true,
    "deletable": true,
    "editable": true
   },
   "outputs": [],
   "source": [
    "def foo(t):\n",
    "    old_row = tuple()\n",
    "    for row in t:\n",
    "        old_row = tuple(map(sum, zip(\n",
    "            map(max, zip((0,) + old_row, old_row + (0,))), row)))\n",
    "   \n",
    "    return max(old_row)"
   ]
  },
  {
   "cell_type": "code",
   "execution_count": 18,
   "metadata": {
    "collapsed": false,
    "deletable": true,
    "editable": true
   },
   "outputs": [
    {
     "name": "stdout",
     "output_type": "stream",
     "text": [
      "100000 loops, best of 3: 16.6 µs per loop\n"
     ]
    },
    {
     "data": {
      "text/plain": [
       "23"
      ]
     },
     "execution_count": 18,
     "metadata": {},
     "output_type": "execute_result"
    }
   ],
   "source": [
    "n = t4\n",
    "%timeit foo(n)\n",
    "foo(n)"
   ]
  },
  {
   "cell_type": "code",
   "execution_count": 19,
   "metadata": {
    "collapsed": false,
    "deletable": true,
    "editable": true
   },
   "outputs": [
    {
     "name": "stdout",
     "output_type": "stream",
     "text": [
      "10000 loops, best of 3: 111 µs per loop\n"
     ]
    },
    {
     "data": {
      "text/plain": [
       "1074"
      ]
     },
     "execution_count": 19,
     "metadata": {},
     "output_type": "execute_result"
    }
   ],
   "source": [
    "n = t15\n",
    "%timeit foo(n)\n",
    "foo(n)"
   ]
  },
  {
   "cell_type": "markdown",
   "metadata": {
    "collapsed": false,
    "deletable": true,
    "editable": true
   },
   "source": [
    "Next, eliminate the loop by using recursion.\n",
    "This code is much harder for me to understand.\n",
    "It is slower also.\n",
    "\n",
    "It was good exercise to play with replacing a loop with recursion.\n",
    "Functional programming fans should like it."
   ]
  },
  {
   "cell_type": "code",
   "execution_count": 20,
   "metadata": {
    "collapsed": false,
    "deletable": true,
    "editable": true
   },
   "outputs": [],
   "source": [
    "def goo(t):\n",
    "    *upper_rows, bottom_row = t\n",
    "    if not upper_rows:\n",
    "        return tuple(bottom_row)\n",
    "\n",
    "    maximums = goo(upper_rows)\n",
    "    stagger_max = map(max, zip((0,) + maximums, maximums + (0,)))\n",
    "    return tuple(map(sum, zip(stagger_max, bottom_row)))"
   ]
  },
  {
   "cell_type": "code",
   "execution_count": 21,
   "metadata": {
    "collapsed": false,
    "deletable": true,
    "editable": true
   },
   "outputs": [],
   "source": [
    "def foo(t):\n",
    "    return max(goo(t))"
   ]
  },
  {
   "cell_type": "code",
   "execution_count": 22,
   "metadata": {
    "collapsed": false,
    "deletable": true,
    "editable": true
   },
   "outputs": [
    {
     "name": "stdout",
     "output_type": "stream",
     "text": [
      "100000 loops, best of 3: 17.2 µs per loop\n"
     ]
    },
    {
     "data": {
      "text/plain": [
       "23"
      ]
     },
     "execution_count": 22,
     "metadata": {},
     "output_type": "execute_result"
    }
   ],
   "source": [
    "n = t4\n",
    "%timeit foo(n)\n",
    "foo(n)"
   ]
  },
  {
   "cell_type": "code",
   "execution_count": 23,
   "metadata": {
    "collapsed": false,
    "deletable": true,
    "editable": true
   },
   "outputs": [
    {
     "name": "stdout",
     "output_type": "stream",
     "text": [
      "10000 loops, best of 3: 119 µs per loop\n"
     ]
    },
    {
     "data": {
      "text/plain": [
       "1074"
      ]
     },
     "execution_count": 23,
     "metadata": {},
     "output_type": "execute_result"
    }
   ],
   "source": [
    "n = t15\n",
    "%timeit foo(n)\n",
    "foo(n)"
   ]
  }
 ],
 "metadata": {
  "kernelspec": {
   "display_name": "Python 3",
   "language": "python",
   "name": "python3"
  },
  "language_info": {
   "codemirror_mode": {
    "name": "ipython",
    "version": 3
   },
   "file_extension": ".py",
   "mimetype": "text/x-python",
   "name": "python",
   "nbconvert_exporter": "python",
   "pygments_lexer": "ipython3",
   "version": "3.6.0"
  }
 },
 "nbformat": 4,
 "nbformat_minor": 0
}
