{
 "metadata": {
  "name": "euler-030-digit-fifth-powers-20130801"
 },
 "nbformat": 3,
 "nbformat_minor": 0,
 "worksheets": [
  {
   "cells": [
    {
     "cell_type": "markdown",
     "metadata": {},
     "source": [
      "Surprisingly there are only three numbers that can be written as the sum of fourth powers of their digits:  \n",
      "\n",
      "> 1634 = 1<sup>4</sup> + 6<sup>4</sup> + 3<sup>4</sup> + 4<sup>4</sup>  \n",
      "> 8208 = 8<sup>4</sup> + 2<sup>4</sup> + 0<sup>4</sup> + 8<sup>4</sup>  \n",
      "> 9474 = 9<sup>4</sup> + 4<sup>4</sup> + 7<sup>4</sup> + 4<sup>4</sup>  \n",
      "\n",
      "As 1 = 1<sup>4</sup> is not a sum it is not included.  \n",
      "\n",
      "The sum of these numbers is 1634 + 8208 + 9474 = 19316.  \n",
      "\n",
      "Find the sum of all the numbers that can be written as the sum of fifth powers of their digits"
     ]
    },
    {
     "cell_type": "code",
     "collapsed": false,
     "input": [
      "pow5 = dict(((str(i), i ** 5) for i in range(10)))\n",
      "pow5"
     ],
     "language": "python",
     "metadata": {},
     "outputs": [
      {
       "output_type": "pyout",
       "prompt_number": 1,
       "text": [
        "{'0': 0,\n",
        " '1': 1,\n",
        " '2': 32,\n",
        " '3': 243,\n",
        " '4': 1024,\n",
        " '5': 3125,\n",
        " '6': 7776,\n",
        " '7': 16807,\n",
        " '8': 32768,\n",
        " '9': 59049}"
       ]
      }
     ],
     "prompt_number": 1
    },
    {
     "cell_type": "code",
     "collapsed": false,
     "input": [
      "def foo():\n",
      "    j = []\n",
      "    for i in range(2, 1000000):\n",
      "        if i == sum((pow5[c] for c in str(i))):\n",
      "            j.append(i)\n",
      "    return sum(j)"
     ],
     "language": "python",
     "metadata": {},
     "outputs": [],
     "prompt_number": 2
    },
    {
     "cell_type": "code",
     "collapsed": false,
     "input": [
      "%timeit foo()\n",
      "foo()"
     ],
     "language": "python",
     "metadata": {},
     "outputs": [
      {
       "output_type": "stream",
       "stream": "stdout",
       "text": [
        "1 loops, best of 3: 2.46 s per loop\n"
       ]
      },
      {
       "output_type": "pyout",
       "prompt_number": 3,
       "text": [
        "443839"
       ]
      }
     ],
     "prompt_number": 3
    }
   ],
   "metadata": {}
  }
 ]
}