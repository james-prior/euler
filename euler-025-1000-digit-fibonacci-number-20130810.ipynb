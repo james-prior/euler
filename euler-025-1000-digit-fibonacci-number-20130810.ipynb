{
 "metadata": {
  "name": "euler-025-1000-digit-fibonacci-number-20130810"
 },
 "nbformat": 3,
 "nbformat_minor": 0,
 "worksheets": [
  {
   "cells": [
    {
     "cell_type": "markdown",
     "metadata": {},
     "source": [
      "The Fibonacci sequence is defined by the recurrence relation:  \n",
      "\n",
      "> F<sub>*n*</sub> = F<sub>*n*\u22121</sub> + F<sub>*n*\u22122</sub>, where F<sub>1</sub> = 1 and F<sub>2</sub> = 1.  \n",
      "\n",
      "Hence the first 12 terms will be:  \n",
      "\n",
      "> F<sub>1</sub> = 1  \n",
      "> F<sub>2</sub> = 1  \n",
      "> F<sub>3</sub> = 2  \n",
      "> F<sub>4</sub> = 3  \n",
      "> F<sub>5</sub> = 5  \n",
      "> F<sub>6</sub> = 8  \n",
      "> F<sub>7</sub> = 13  \n",
      "> F<sub>8</sub> = 21  \n",
      "> F<sub>9</sub> = 34  \n",
      "> F<sub>10</sub> = 55  \n",
      "> F<sub>11</sub> = 89  \n",
      "> F<sub>12</sub> = 144  \n",
      "\n",
      "The 12th term, F12, is the first term to contain three digits.  \n",
      "\n",
      "What is the first term in the Fibonacci sequence to contain 1000 digits?  "
     ]
    },
    {
     "cell_type": "code",
     "collapsed": false,
     "input": [
      "from euler import gen_fibonacci, gen_lte"
     ],
     "language": "python",
     "metadata": {},
     "outputs": [],
     "prompt_number": 1
    },
    {
     "cell_type": "code",
     "collapsed": false,
     "input": [
      "list(gen_lte(gen_fibonacci(), 100))"
     ],
     "language": "python",
     "metadata": {},
     "outputs": [
      {
       "output_type": "pyout",
       "prompt_number": 2,
       "text": [
        "[1, 2, 3, 5, 8, 13, 21, 34, 55, 89]"
       ]
      }
     ],
     "prompt_number": 2
    },
    {
     "cell_type": "code",
     "collapsed": false,
     "input": [
      "def gen_fib2():\n",
      "    yield 1\n",
      "    for i in gen_fibonacci():\n",
      "        yield i"
     ],
     "language": "python",
     "metadata": {},
     "outputs": [],
     "prompt_number": 3
    },
    {
     "cell_type": "code",
     "collapsed": false,
     "input": [
      "list(gen_lte(gen_fib2(), 100))"
     ],
     "language": "python",
     "metadata": {},
     "outputs": [
      {
       "output_type": "pyout",
       "prompt_number": 4,
       "text": [
        "[1, 1, 2, 3, 5, 8, 13, 21, 34, 55, 89]"
       ]
      }
     ],
     "prompt_number": 4
    },
    {
     "cell_type": "code",
     "collapsed": false,
     "input": [
      "def gen_fib3():\n",
      "    yield 0\n",
      "    yield 1\n",
      "    for i in gen_fibonacci():\n",
      "        yield i"
     ],
     "language": "python",
     "metadata": {},
     "outputs": [],
     "prompt_number": 5
    },
    {
     "cell_type": "code",
     "collapsed": false,
     "input": [
      "list(gen_lte(gen_fib3(), 100))"
     ],
     "language": "python",
     "metadata": {},
     "outputs": [
      {
       "output_type": "pyout",
       "prompt_number": 6,
       "text": [
        "[0, 1, 1, 2, 3, 5, 8, 13, 21, 34, 55, 89]"
       ]
      }
     ],
     "prompt_number": 6
    },
    {
     "cell_type": "code",
     "collapsed": false,
     "input": [
      "def foo(n):\n",
      "    for i, fib in enumerate(gen_fib2(), 1):\n",
      "        if len(str(fib)) >= n:\n",
      "            return i"
     ],
     "language": "python",
     "metadata": {},
     "outputs": [],
     "prompt_number": 7
    },
    {
     "cell_type": "code",
     "collapsed": false,
     "input": [
      "foo(3)"
     ],
     "language": "python",
     "metadata": {},
     "outputs": [
      {
       "output_type": "pyout",
       "prompt_number": 8,
       "text": [
        "12"
       ]
      }
     ],
     "prompt_number": 8
    },
    {
     "cell_type": "code",
     "collapsed": false,
     "input": [
      "%timeit foo(1000)\n",
      "foo(1000)"
     ],
     "language": "python",
     "metadata": {},
     "outputs": [
      {
       "output_type": "stream",
       "stream": "stdout",
       "text": [
        "1 loops, best of 3: 248 ms per loop\n"
       ]
      },
      {
       "output_type": "pyout",
       "prompt_number": 9,
       "text": [
        "4782"
       ]
      }
     ],
     "prompt_number": 9
    },
    {
     "cell_type": "markdown",
     "metadata": {},
     "source": [
      "For extra bonus points, directly calculate the number without generating any Fibonacci numbers.  \n",
      "\n",
      "Hint: Read Knuth. "
     ]
    },
    {
     "cell_type": "code",
     "collapsed": false,
     "input": [
      "from math import sqrt, log, ceil"
     ],
     "language": "python",
     "metadata": {},
     "outputs": [],
     "prompt_number": 10
    },
    {
     "cell_type": "code",
     "collapsed": false,
     "input": [
      "phi = (sqrt(5) + 1.) / 2.\n",
      "def term_of_ndigits_fib(ndigits):\n",
      "    return int(ceil((log(sqrt(5)) + (ndigits - 1) * log(10)) / log(phi)))"
     ],
     "language": "python",
     "metadata": {},
     "outputs": [],
     "prompt_number": 11
    },
    {
     "cell_type": "code",
     "collapsed": false,
     "input": [
      "n = 1000\n",
      "%timeit term_of_ndigits_fib(n)\n",
      "term_of_ndigits_fib(n)"
     ],
     "language": "python",
     "metadata": {},
     "outputs": [
      {
       "output_type": "stream",
       "stream": "stdout",
       "text": [
        "1000000 loops, best of 3: 1.81 us per loop\n"
       ]
      },
      {
       "output_type": "pyout",
       "prompt_number": 12,
       "text": [
        "4782"
       ]
      }
     ],
     "prompt_number": 12
    },
    {
     "cell_type": "code",
     "collapsed": false,
     "input": [
      "phi = (sqrt(5) + 1.) / 2.\n",
      "log_phi = log(phi)\n",
      "log_sqrt_5 = log(sqrt(5))\n",
      "log_10 = log(10)\n",
      "def term_of_ndigits_fib(ndigits):\n",
      "    return int(ceil((log_sqrt_5 + (ndigits - 1) * log_10) / log_phi))"
     ],
     "language": "python",
     "metadata": {},
     "outputs": [],
     "prompt_number": 13
    },
    {
     "cell_type": "code",
     "collapsed": false,
     "input": [
      "n = 1000\n",
      "%timeit term_of_ndigits_fib(n)\n",
      "term_of_ndigits_fib(n)"
     ],
     "language": "python",
     "metadata": {},
     "outputs": [
      {
       "output_type": "stream",
       "stream": "stdout",
       "text": [
        "1000000 loops, best of 3: 917 ns per loop\n"
       ]
      },
      {
       "output_type": "pyout",
       "prompt_number": 14,
       "text": [
        "4782"
       ]
      }
     ],
     "prompt_number": 14
    },
    {
     "cell_type": "code",
     "collapsed": false,
     "input": [
      "phi = (sqrt(5) + 1.) / 2.\n",
      "b = (log(sqrt(5)) - log(10)) / log(phi)\n",
      "m = log(10) / log(phi)\n",
      "def term_of_ndigits_fib(ndigits):\n",
      "    return int(ceil(m * ndigits + b))"
     ],
     "language": "python",
     "metadata": {},
     "outputs": [],
     "prompt_number": 15
    },
    {
     "cell_type": "code",
     "collapsed": false,
     "input": [
      "n = 1000\n",
      "%timeit term_of_ndigits_fib(n)\n",
      "term_of_ndigits_fib(n)"
     ],
     "language": "python",
     "metadata": {},
     "outputs": [
      {
       "output_type": "stream",
       "stream": "stdout",
       "text": [
        "1000000 loops, best of 3: 802 ns per loop\n"
       ]
      },
      {
       "output_type": "pyout",
       "prompt_number": 16,
       "text": [
        "4782"
       ]
      }
     ],
     "prompt_number": 16
    },
    {
     "cell_type": "code",
     "collapsed": false,
     "input": [
      "phi = (sqrt(5) + 1.) / 2.\n",
      "b = (log(sqrt(5)) - log(10)) / log(phi)\n",
      "m = log(10) / log(phi)\n",
      "def term_of_ndigits_fib(ndigits):\n",
      "    return ceil(m * ndigits + b)"
     ],
     "language": "python",
     "metadata": {},
     "outputs": [],
     "prompt_number": 17
    },
    {
     "cell_type": "code",
     "collapsed": false,
     "input": [
      "n = 1000\n",
      "%timeit term_of_ndigits_fib(n)\n",
      "term_of_ndigits_fib(n)"
     ],
     "language": "python",
     "metadata": {},
     "outputs": [
      {
       "output_type": "stream",
       "stream": "stdout",
       "text": [
        "1000000 loops, best of 3: 529 ns per loop\n"
       ]
      },
      {
       "output_type": "pyout",
       "prompt_number": 18,
       "text": [
        "4782.0"
       ]
      }
     ],
     "prompt_number": 18
    },
    {
     "cell_type": "code",
     "collapsed": false,
     "input": [
      "n = 1000\n",
      "%timeit ceil(m * n + b)\n",
      "ceil(m * n + b)"
     ],
     "language": "python",
     "metadata": {},
     "outputs": [
      {
       "output_type": "stream",
       "stream": "stdout",
       "text": [
        "1000000 loops, best of 3: 369 ns per loop\n"
       ]
      },
      {
       "output_type": "pyout",
       "prompt_number": 19,
       "text": [
        "4782.0"
       ]
      }
     ],
     "prompt_number": 19
    }
   ],
   "metadata": {}
  }
 ]
}