{
 "metadata": {
  "name": "euler-049-prime-permutations-20130815"
 },
 "nbformat": 3,
 "nbformat_minor": 0,
 "worksheets": [
  {
   "cells": [
    {
     "cell_type": "markdown",
     "metadata": {},
     "source": [
      "The arithmetic sequence, 1487, 4817, 8147, in which each of the terms increases by 3330, is unusual in two ways: (i) each of the three terms are prime, and, (ii) each of the 4-digit numbers are permutations of one another.  \n",
      "\n",
      "There are no arithmetic sequences made up of three 1-, 2-, or 3-digit primes, exhibiting this property, but there is one other 4-digit increasing sequence.  \n",
      "\n",
      "What 12-digit number do you form by concatenating the three terms in this sequence?"
     ]
    },
    {
     "cell_type": "code",
     "collapsed": false,
     "input": [
      "from euler import gen_lt, gen_prime"
     ],
     "language": "python",
     "metadata": {},
     "outputs": [],
     "prompt_number": 1
    },
    {
     "cell_type": "code",
     "collapsed": false,
     "input": [
      "def goo(n):\n",
      "    return reduce((lambda x, y: x + y), sorted(str(n)))"
     ],
     "language": "python",
     "metadata": {},
     "outputs": [],
     "prompt_number": 2
    },
    {
     "cell_type": "code",
     "collapsed": false,
     "input": [
      "goo(8471)"
     ],
     "language": "python",
     "metadata": {},
     "outputs": [
      {
       "output_type": "pyout",
       "prompt_number": 3,
       "text": [
        "'1478'"
       ]
      }
     ],
     "prompt_number": 3
    },
    {
     "cell_type": "code",
     "collapsed": false,
     "input": [
      "def foo(n):\n",
      "    primes = list(filter((lambda x:x >= 10 ** (n - 1)), gen_lt(gen_prime(), 10 ** n)))\n",
      "    ps = set(primes)\n",
      "    pp = [goo(p) for p in primes]\n",
      "    for i in range(len(primes)):\n",
      "        p1 = primes[i]\n",
      "        if p1 == 1487:\n",
      "            continue\n",
      "        for j in range(i+1, len(primes)):\n",
      "            if pp[i] != pp[j]:\n",
      "                continue\n",
      "            p2 = primes[j]\n",
      "            p3 = p2 + (p2 - p1)\n",
      "            if p3 not in ps:\n",
      "                continue\n",
      "            if pp[i] == goo(p3):\n",
      "                # return reduce((lambda x, y: x + y), map(str, (p1, p2, p3)))\n",
      "                return str(p1) + str(p2) + str(p3)"
     ],
     "language": "python",
     "metadata": {},
     "outputs": [],
     "prompt_number": 4
    },
    {
     "cell_type": "code",
     "collapsed": false,
     "input": [
      "n = 4\n",
      "%timeit foo(n)\n",
      "foo(n)"
     ],
     "language": "python",
     "metadata": {},
     "outputs": [
      {
       "output_type": "stream",
       "stream": "stdout",
       "text": [
        "10 loops, best of 3: 52.4 ms per loop\n"
       ]
      },
      {
       "output_type": "pyout",
       "prompt_number": 5,
       "text": [
        "'296962999629'"
       ]
      }
     ],
     "prompt_number": 5
    }
   ],
   "metadata": {}
  }
 ]
}