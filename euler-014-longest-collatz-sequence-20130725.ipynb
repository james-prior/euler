{
 "metadata": {
  "name": "euler-014-longest-collatz-sequence-20130725"
 },
 "nbformat": 3,
 "nbformat_minor": 0,
 "worksheets": [
  {
   "cells": [
    {
     "cell_type": "code",
     "collapsed": false,
     "input": [
      "def gen_collatz(n):\n",
      "    yield n\n",
      "    while n > 1:\n",
      "        if n % 2 == 0:\n",
      "            n /= 2\n",
      "        else:\n",
      "            n = 3 * n + 1\n",
      "        yield n"
     ],
     "language": "python",
     "metadata": {},
     "outputs": [],
     "prompt_number": 1
    },
    {
     "cell_type": "code",
     "collapsed": false,
     "input": [
      "list(gen_collatz(13))"
     ],
     "language": "python",
     "metadata": {},
     "outputs": [
      {
       "output_type": "pyout",
       "prompt_number": 2,
       "text": [
        "[13, 40, 20, 10, 5, 16, 8, 4, 2, 1]"
       ]
      }
     ],
     "prompt_number": 2
    },
    {
     "cell_type": "code",
     "collapsed": false,
     "input": [
      "len(list(gen_collatz(13)))"
     ],
     "language": "python",
     "metadata": {},
     "outputs": [
      {
       "output_type": "pyout",
       "prompt_number": 3,
       "text": [
        "10"
       ]
      }
     ],
     "prompt_number": 3
    },
    {
     "cell_type": "code",
     "collapsed": false,
     "input": [
      "def foo(n):\n",
      "    max_chain_len = 0\n",
      "    max_chain_n = 0\n",
      "    for i in xrange(1, n):\n",
      "        if len(list(gen_collatz(i))) > max_chain_len:\n",
      "            max_chain_len = len(list(gen_collatz(i)))\n",
      "            max_chain_n = i\n",
      "    return max_chain_n, max_chain_len"
     ],
     "language": "python",
     "metadata": {},
     "outputs": [],
     "prompt_number": 4
    },
    {
     "cell_type": "code",
     "collapsed": false,
     "input": [
      "%time print foo(1000000)[0]"
     ],
     "language": "python",
     "metadata": {},
     "outputs": [
      {
       "output_type": "stream",
       "stream": "stdout",
       "text": [
        "837799\n",
        "CPU times: user 55.21 s, sys: 0.01 s, total: 55.22 s\n",
        "Wall time: 55.26 s\n"
       ]
      }
     ],
     "prompt_number": 5
    }
   ],
   "metadata": {}
  }
 ]
}