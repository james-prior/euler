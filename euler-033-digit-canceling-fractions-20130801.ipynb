{
 "metadata": {
  "name": "euler-033-digit-canceling-fractions-20130801"
 },
 "nbformat": 3,
 "nbformat_minor": 0,
 "worksheets": [
  {
   "cells": [
    {
     "cell_type": "markdown",
     "metadata": {},
     "source": [
      "The fraction <sup>49</sup>/<sub>98</sub> is a curious fraction, as an inexperienced mathematician in attempting to simplify it may incorrectly believe that <sup>49</sup>/<sub>98</sub> = <sup>4</sup>/<sub>8</sub>, which is correct, is obtained by cancelling the 9s.  \n",
      "\n",
      "We shall consider fractions like, <sup>30</sup>/<sub>50</sub> = <sup>3</sup>/<sub>5</sub>, to be trivial examples.  \n",
      "\n",
      "There are exactly four non-trivial examples of this type of fraction, less than one in value, and containing two digits in the numerator and denominator.  \n",
      "\n",
      "If the product of these four fractions is given in its lowest common terms, find the value of the denominator."
     ]
    },
    {
     "cell_type": "code",
     "collapsed": false,
     "input": [
      "from euler import greatest_common_divisor"
     ],
     "language": "python",
     "metadata": {},
     "outputs": [],
     "prompt_number": 1
    },
    {
     "cell_type": "code",
     "collapsed": false,
     "input": [
      "greatest_common_divisor(12, 20)"
     ],
     "language": "python",
     "metadata": {},
     "outputs": [
      {
       "output_type": "pyout",
       "prompt_number": 2,
       "text": [
        "4"
       ]
      }
     ],
     "prompt_number": 2
    },
    {
     "cell_type": "code",
     "collapsed": false,
     "input": [
      "def foo():\n",
      "    n = set([])\n",
      "    for aa in range(10, 99+1):\n",
      "        aas = str(aa)\n",
      "        for bb in range(aa+1, 99+1):\n",
      "            bbs = str(bb)\n",
      "            for ai in range(len(aas)): # ai is index of digit to clobber\n",
      "                ad = aas[ai]\n",
      "                a = int(aas[:ai] + aas[ai+1:])\n",
      "                for bi in range(len(bbs)): # bi is index of digit to clobber\n",
      "                    bd = bbs[bi]\n",
      "                    b = int(bbs[:bi] + bbs[bi+1:])\n",
      "                    if ad == bd and int(ad) and int(bd) and a * bb == b * aa:\n",
      "                        s = '%d/%d == %d/%d' % (aa, bb, a, b)\n",
      "                        n.add((aa, bb))\n",
      "    a = reduce((lambda x, y: x * y), (i[0] for i in n))\n",
      "    b = reduce((lambda x, y: x * y), (i[1] for i in n))\n",
      "    return b / greatest_common_divisor(a, b)"
     ],
     "language": "python",
     "metadata": {},
     "outputs": [],
     "prompt_number": 3
    },
    {
     "cell_type": "code",
     "collapsed": false,
     "input": [
      "%timeit foo()\n",
      "foo()"
     ],
     "language": "python",
     "metadata": {},
     "outputs": [
      {
       "output_type": "stream",
       "stream": "stdout",
       "text": [
        "10 loops, best of 3: 42 ms per loop\n"
       ]
      },
      {
       "output_type": "pyout",
       "prompt_number": 4,
       "text": [
        "100"
       ]
      }
     ],
     "prompt_number": 4
    }
   ],
   "metadata": {}
  }
 ]
}