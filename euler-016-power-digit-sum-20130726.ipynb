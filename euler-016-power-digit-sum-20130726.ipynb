{
 "metadata": {
  "name": "euler-016-power-digit-sum-20130726"
 },
 "nbformat": 3,
 "nbformat_minor": 0,
 "worksheets": [
  {
   "cells": [
    {
     "cell_type": "code",
     "collapsed": false,
     "input": [
      "%timeit sum((int(c) for c in str(2 ** 1000)))\n",
      "sum((int(c) for c in str(2 ** 1000)))"
     ],
     "language": "python",
     "metadata": {},
     "outputs": [
      {
       "output_type": "stream",
       "stream": "stdout",
       "text": [
        "1000 loops, best of 3: 294 us per loop\n"
       ]
      },
      {
       "output_type": "pyout",
       "prompt_number": 1,
       "text": [
        "1366"
       ]
      }
     ],
     "prompt_number": 1
    }
   ],
   "metadata": {}
  }
 ]
}