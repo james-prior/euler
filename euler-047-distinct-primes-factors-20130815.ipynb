{
 "metadata": {
  "name": "euler-047-distinct-primes-factors-20130815"
 },
 "nbformat": 3,
 "nbformat_minor": 0,
 "worksheets": [
  {
   "cells": [
    {
     "cell_type": "markdown",
     "metadata": {},
     "source": [
      "The first two consecutive numbers to have two distinct prime factors are:  \n",
      "\n",
      "> 14 = 2 \u00d7 7  \n",
      "> 15 = 3 \u00d7 5\n",
      "\n",
      "The first three consecutive numbers to have three distinct prime factors are:  \n",
      "\n",
      "> 644 = 2\u00b2 \u00d7 7 \u00d7 23   \n",
      "> 645 = 3 \u00d7 5 \u00d7 43  \n",
      "> 646 = 2 \u00d7 17 \u00d7 19.\n",
      "\n",
      "Find the first four consecutive integers to have four distinct prime factors. What is the first of these numbers?"
     ]
    },
    {
     "cell_type": "code",
     "collapsed": false,
     "input": [
      "from euler import canonical_decomposition"
     ],
     "language": "python",
     "metadata": {},
     "outputs": [],
     "prompt_number": 1
    },
    {
     "cell_type": "code",
     "collapsed": false,
     "input": [
      "d = canonical_decomposition(644)\n",
      "d"
     ],
     "language": "python",
     "metadata": {},
     "outputs": [
      {
       "output_type": "pyout",
       "prompt_number": 2,
       "text": [
        "{2: 2, 7: 1, 23: 1}"
       ]
      }
     ],
     "prompt_number": 2
    },
    {
     "cell_type": "code",
     "collapsed": false,
     "input": [
      "len(d)"
     ],
     "language": "python",
     "metadata": {},
     "outputs": [
      {
       "output_type": "pyout",
       "prompt_number": 3,
       "text": [
        "3"
       ]
      }
     ],
     "prompt_number": 3
    },
    {
     "cell_type": "code",
     "collapsed": false,
     "input": [
      "from itertools import count"
     ],
     "language": "python",
     "metadata": {},
     "outputs": [],
     "prompt_number": 4
    },
    {
     "cell_type": "code",
     "collapsed": false,
     "input": [
      "def foo(n):\n",
      "    for i in count(2):\n",
      "        for j in range(i, i + n):\n",
      "            if len(canonical_decomposition(j)) != 4:\n",
      "                break\n",
      "        else:\n",
      "            return i"
     ],
     "language": "python",
     "metadata": {},
     "outputs": [],
     "prompt_number": 5
    },
    {
     "cell_type": "code",
     "collapsed": false,
     "input": [
      "n = 4\n",
      "%timeit foo(n)\n",
      "foo(n)"
     ],
     "language": "python",
     "metadata": {},
     "outputs": [
      {
       "output_type": "stream",
       "stream": "stdout",
       "text": [
        "1 loops, best of 3: 2.97 s per loop\n"
       ]
      },
      {
       "output_type": "pyout",
       "prompt_number": 6,
       "text": [
        "134043"
       ]
      }
     ],
     "prompt_number": 6
    },
    {
     "cell_type": "code",
     "collapsed": false,
     "input": [
      "def foo(n):\n",
      "    i = 2\n",
      "    while True:\n",
      "        for j in range(i, i + n):\n",
      "            if len(canonical_decomposition(j)) != 4:\n",
      "                i = j + 1\n",
      "                break\n",
      "        else:\n",
      "            return i"
     ],
     "language": "python",
     "metadata": {},
     "outputs": [],
     "prompt_number": 7
    },
    {
     "cell_type": "code",
     "collapsed": false,
     "input": [
      "n = 4\n",
      "%timeit foo(n)\n",
      "foo(n)"
     ],
     "language": "python",
     "metadata": {},
     "outputs": [
      {
       "output_type": "stream",
       "stream": "stdout",
       "text": [
        "1 loops, best of 3: 2.51 s per loop\n"
       ]
      },
      {
       "output_type": "pyout",
       "prompt_number": 8,
       "text": [
        "134043"
       ]
      }
     ],
     "prompt_number": 8
    }
   ],
   "metadata": {}
  }
 ]
}