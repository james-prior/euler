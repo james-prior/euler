{
 "metadata": {
  "name": "euler-004-largest-palindrome-product-20130725"
 },
 "nbformat": 3,
 "nbformat_minor": 0,
 "worksheets": [
  {
   "cells": [
    {
     "cell_type": "code",
     "collapsed": false,
     "input": [
      "def is_palindromic_number(x):\n",
      "    x = str(x)\n",
      "    return x == x[::-1]"
     ],
     "language": "python",
     "metadata": {},
     "outputs": [],
     "prompt_number": 1
    },
    {
     "cell_type": "code",
     "collapsed": false,
     "input": [
      "is_palindromic_number(9009)"
     ],
     "language": "python",
     "metadata": {},
     "outputs": [
      {
       "output_type": "pyout",
       "prompt_number": 2,
       "text": [
        "True"
       ]
      }
     ],
     "prompt_number": 2
    },
    {
     "cell_type": "code",
     "collapsed": false,
     "input": [
      "is_palindromic_number(90109)"
     ],
     "language": "python",
     "metadata": {},
     "outputs": [
      {
       "output_type": "pyout",
       "prompt_number": 3,
       "text": [
        "True"
       ]
      }
     ],
     "prompt_number": 3
    },
    {
     "cell_type": "code",
     "collapsed": false,
     "input": [
      "is_palindromic_number(90019)"
     ],
     "language": "python",
     "metadata": {},
     "outputs": [
      {
       "output_type": "pyout",
       "prompt_number": 4,
       "text": [
        "False"
       ]
      }
     ],
     "prompt_number": 4
    },
    {
     "cell_type": "code",
     "collapsed": false,
     "input": [
      "highest_palindromic_number = 0\n",
      "for i in range(100, 1000)[::-1]:\n",
      "    for j in range(100, 1000)[::-1]:\n",
      "        if j > i:\n",
      "            continue\n",
      "        k = i * j\n",
      "        if is_palindromic_number(k) and k > highest_palindromic_number:\n",
      "            # print i, j, k\n",
      "            highest_palindromic_number = k\n",
      "print highest_palindromic_number"
     ],
     "language": "python",
     "metadata": {},
     "outputs": [
      {
       "output_type": "stream",
       "stream": "stdout",
       "text": [
        "906609\n"
       ]
      }
     ],
     "prompt_number": 5
    },
    {
     "cell_type": "code",
     "collapsed": false,
     "input": [
      "def find_highest_palindromic_number(a, b):\n",
      "    highest_palindromic_number = 0\n",
      "    for i in range(a, b)[::-1]:\n",
      "        for j in range(a, b)[::-1]:\n",
      "            if j > i:\n",
      "                continue\n",
      "            k = i * j\n",
      "            if is_palindromic_number(k) and k > highest_palindromic_number:\n",
      "                # print i, j, k\n",
      "                highest_palindromic_number = k\n",
      "    return highest_palindromic_number"
     ],
     "language": "python",
     "metadata": {},
     "outputs": [],
     "prompt_number": 6
    },
    {
     "cell_type": "code",
     "collapsed": false,
     "input": [
      "find_highest_palindromic_number(100, 1000)"
     ],
     "language": "python",
     "metadata": {},
     "outputs": [
      {
       "output_type": "pyout",
       "prompt_number": 7,
       "text": [
        "906609"
       ]
      }
     ],
     "prompt_number": 7
    },
    {
     "cell_type": "code",
     "collapsed": false,
     "input": [
      "%timeit find_highest_palindromic_number(100, 1000)"
     ],
     "language": "python",
     "metadata": {},
     "outputs": [
      {
       "output_type": "stream",
       "stream": "stdout",
       "text": [
        "1 loops, best of 3: 539 ms per loop\n"
       ]
      }
     ],
     "prompt_number": 8
    },
    {
     "cell_type": "code",
     "collapsed": false,
     "input": [
      "def find_highest_palindromic_number(a, b):\n",
      "    highest_palindromic_number = 0\n",
      "    for i in range(a, b)[::-1]:\n",
      "        for j in range(a, b)[::-1]:\n",
      "            if j > i:\n",
      "                continue\n",
      "            k = i * j\n",
      "            if k > highest_palindromic_number and is_palindromic_number(k):\n",
      "                # print i, j, k\n",
      "                highest_palindromic_number = k\n",
      "    return highest_palindromic_number"
     ],
     "language": "python",
     "metadata": {},
     "outputs": [],
     "prompt_number": 9
    },
    {
     "cell_type": "code",
     "collapsed": false,
     "input": [
      "find_highest_palindromic_number(100, 1000)"
     ],
     "language": "python",
     "metadata": {},
     "outputs": [
      {
       "output_type": "pyout",
       "prompt_number": 10,
       "text": [
        "906609"
       ]
      }
     ],
     "prompt_number": 10
    },
    {
     "cell_type": "code",
     "collapsed": false,
     "input": [
      "%timeit find_highest_palindromic_number(100, 1000)"
     ],
     "language": "python",
     "metadata": {},
     "outputs": [
      {
       "output_type": "stream",
       "stream": "stdout",
       "text": [
        "10 loops, best of 3: 139 ms per loop\n"
       ]
      }
     ],
     "prompt_number": 11
    },
    {
     "cell_type": "code",
     "collapsed": false,
     "input": [],
     "language": "python",
     "metadata": {},
     "outputs": []
    }
   ],
   "metadata": {}
  }
 ]
}