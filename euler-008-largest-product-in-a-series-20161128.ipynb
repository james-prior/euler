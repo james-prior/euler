{
 "cells": [
  {
   "cell_type": "markdown",
   "metadata": {},
   "source": [
    "[Project Euler](https://projecteuler.net)\n",
    "[Problem #8](https://projecteuler.net/problem=8)\n",
    "\n",
    "The four adjacent digits in the 1000-digit number that have the greatest product are 9 × 9 × 8 × 9 = 5832.\n",
    "\n",
    "    73167176531330624919225119674426574742355349194934\n",
    "    96983520312774506326239578318016984801869478851843\n",
    "    85861560789112949495459501737958331952853208805511\n",
    "    12540698747158523863050715693290963295227443043557\n",
    "    66896648950445244523161731856403098711121722383113\n",
    "    62229893423380308135336276614282806444486645238749\n",
    "    30358907296290491560440772390713810515859307960866\n",
    "    70172427121883998797908792274921901699720888093776\n",
    "    65727333001053367881220235421809751254540594752243\n",
    "    52584907711670556013604839586446706324415722155397\n",
    "    53697817977846174064955149290862569321978468622482\n",
    "    83972241375657056057490261407972968652414535100474\n",
    "    82166370484403199890008895243450658541227588666881\n",
    "    16427171479924442928230863465674813919123162824586\n",
    "    17866458359124566529476545682848912883142607690042\n",
    "    24219022671055626321111109370544217506941658960408\n",
    "    07198403850962455444362981230987879927244284909188\n",
    "    84580156166097919133875499200524063689912560717606\n",
    "    05886116467109405077541002256983155200055935729725\n",
    "    71636269561882670428252483600823257530420752963450\n",
    " \n",
    "Find the thirteen adjacent digits in the 1000-digit number that have the greatest product. What is the value of this product?"
   ]
  },
  {
   "cell_type": "code",
   "execution_count": 1,
   "metadata": {
    "collapsed": true
   },
   "outputs": [],
   "source": [
    "from __future__ import print_function"
   ]
  },
  {
   "cell_type": "code",
   "execution_count": 2,
   "metadata": {
    "collapsed": true
   },
   "outputs": [],
   "source": [
    "import string\n",
    "import operator\n",
    "from functools import reduce"
   ]
  },
  {
   "cell_type": "code",
   "execution_count": 3,
   "metadata": {
    "collapsed": false
   },
   "outputs": [
    {
     "data": {
      "text/plain": [
       "(1000,\n",
       " '7316717653133062491922511967442657474235534919493496983520312774506326239578318016984801869478851843858615607891129494954595017379583319528532088055111254069874715852386305071569329096329522744304355766896648950445244523161731856403098711121722383113622298934233803081353362766142828064444866452387493035890729629049156044077239071381051585930796086670172427121883998797908792274921901699720888093776657273330010533678812202354218097512545405947522435258490771167055601360483958644670632441572215539753697817977846174064955149290862569321978468622482839722413756570560574902614079729686524145351004748216637048440319989000889524345065854122758866688116427171479924442928230863465674813919123162824586178664583591245665294765456828489128831426076900422421902267105562632111110937054421750694165896040807198403850962455444362981230987879927244284909188845801561660979191338754992005240636899125607176060588611646710940507754100225698315520005593572972571636269561882670428252483600823257530420752963450')"
      ]
     },
     "execution_count": 3,
     "metadata": {},
     "output_type": "execute_result"
    }
   ],
   "source": [
    "s = '''\n",
    " 73167176531330624919225119674426574742355349194934\n",
    " 96983520312774506326239578318016984801869478851843\n",
    " 85861560789112949495459501737958331952853208805511\n",
    " 12540698747158523863050715693290963295227443043557\n",
    " 66896648950445244523161731856403098711121722383113\n",
    " 62229893423380308135336276614282806444486645238749\n",
    " 30358907296290491560440772390713810515859307960866\n",
    " 70172427121883998797908792274921901699720888093776\n",
    " 65727333001053367881220235421809751254540594752243\n",
    " 52584907711670556013604839586446706324415722155397\n",
    " 53697817977846174064955149290862569321978468622482\n",
    " 83972241375657056057490261407972968652414535100474\n",
    " 82166370484403199890008895243450658541227588666881\n",
    " 16427171479924442928230863465674813919123162824586\n",
    " 17866458359124566529476545682848912883142607690042\n",
    " 24219022671055626321111109370544217506941658960408\n",
    " 07198403850962455444362981230987879927244284909188\n",
    " 84580156166097919133875499200524063689912560717606\n",
    " 05886116467109405077541002256983155200055935729725\n",
    " 71636269561882670428252483600823257530420752963450\n",
    " '''\n",
    "s = ''.join(c for c in s if c in string.digits)\n",
    "len(str(s)), s"
   ]
  },
  {
   "cell_type": "code",
   "execution_count": 4,
   "metadata": {
    "collapsed": true
   },
   "outputs": [],
   "source": [
    "def foo(s, n):\n",
    "    biggest_product = 0\n",
    "    for i in range(len(s) - n + 1):\n",
    "        t = s[i:i+n]\n",
    "        product = reduce(operator.mul, map(int, t))\n",
    "        if product > biggest_product:\n",
    "            biggest_product = product\n",
    "    return biggest_product"
   ]
  },
  {
   "cell_type": "code",
   "execution_count": 5,
   "metadata": {
    "collapsed": false
   },
   "outputs": [
    {
     "data": {
      "text/plain": [
       "5832"
      ]
     },
     "execution_count": 5,
     "metadata": {},
     "output_type": "execute_result"
    }
   ],
   "source": [
    "foo(s, 4)"
   ]
  },
  {
   "cell_type": "code",
   "execution_count": 6,
   "metadata": {
    "collapsed": false
   },
   "outputs": [
    {
     "name": "stdout",
     "output_type": "stream",
     "text": [
      "100 loops, best of 3: 5.77 ms per loop\n"
     ]
    },
    {
     "data": {
      "text/plain": [
       "23514624000"
      ]
     },
     "execution_count": 6,
     "metadata": {},
     "output_type": "execute_result"
    }
   ],
   "source": [
    "n = 13\n",
    "%timeit foo(s, n)\n",
    "foo(s, n)"
   ]
  },
  {
   "cell_type": "code",
   "execution_count": 7,
   "metadata": {
    "collapsed": true
   },
   "outputs": [],
   "source": [
    "def foo(s, n):\n",
    "    adjacent_digits = (s[i:i+n] for i in range(len(s) - n + 1))\n",
    "    products = (\n",
    "        reduce(operator.mul, map(int, t))\n",
    "        for t in adjacent_digits)\n",
    "    return max(products)"
   ]
  },
  {
   "cell_type": "code",
   "execution_count": 8,
   "metadata": {
    "collapsed": false
   },
   "outputs": [
    {
     "name": "stdout",
     "output_type": "stream",
     "text": [
      "100 loops, best of 3: 5.97 ms per loop\n"
     ]
    },
    {
     "data": {
      "text/plain": [
       "23514624000"
      ]
     },
     "execution_count": 8,
     "metadata": {},
     "output_type": "execute_result"
    }
   ],
   "source": [
    "n = 13\n",
    "%timeit foo(s, n)\n",
    "foo(s, n)"
   ]
  },
  {
   "cell_type": "code",
   "execution_count": 9,
   "metadata": {
    "collapsed": true
   },
   "outputs": [],
   "source": [
    "def foo(s, n):\n",
    "    return max(\n",
    "        reduce(operator.mul, map(int, s[i:i+n]))\n",
    "        for i in range(len(s) - n + 1))"
   ]
  },
  {
   "cell_type": "code",
   "execution_count": 10,
   "metadata": {
    "collapsed": false
   },
   "outputs": [
    {
     "name": "stdout",
     "output_type": "stream",
     "text": [
      "100 loops, best of 3: 6.05 ms per loop\n"
     ]
    },
    {
     "data": {
      "text/plain": [
       "23514624000"
      ]
     },
     "execution_count": 10,
     "metadata": {},
     "output_type": "execute_result"
    }
   ],
   "source": [
    "n = 13\n",
    "%timeit foo(s, n)\n",
    "foo(s, n)"
   ]
  },
  {
   "cell_type": "markdown",
   "metadata": {},
   "source": [
    "It seems that having s as a big string and repeatedly converting digits to ints is wasteful, so I convert s to be a list of ints and repeat the above adjusted for dealing with a list of ints."
   ]
  },
  {
   "cell_type": "code",
   "execution_count": 11,
   "metadata": {
    "collapsed": false
   },
   "outputs": [],
   "source": [
    "s = list(map(int, s))"
   ]
  },
  {
   "cell_type": "code",
   "execution_count": 12,
   "metadata": {
    "collapsed": false
   },
   "outputs": [],
   "source": [
    "def foo(s, n):\n",
    "    biggest_product = 0\n",
    "    for i in range(len(s) - n + 1):\n",
    "        t = s[i:i+n]\n",
    "        product = reduce(operator.mul, t)\n",
    "        if product > biggest_product:\n",
    "            biggest_product = product\n",
    "    return biggest_product"
   ]
  },
  {
   "cell_type": "code",
   "execution_count": 13,
   "metadata": {
    "collapsed": false
   },
   "outputs": [
    {
     "data": {
      "text/plain": [
       "5832"
      ]
     },
     "execution_count": 13,
     "metadata": {},
     "output_type": "execute_result"
    }
   ],
   "source": [
    "foo(s, 4)"
   ]
  },
  {
   "cell_type": "code",
   "execution_count": 14,
   "metadata": {
    "collapsed": false
   },
   "outputs": [
    {
     "name": "stdout",
     "output_type": "stream",
     "text": [
      "1000 loops, best of 3: 1.84 ms per loop\n"
     ]
    },
    {
     "data": {
      "text/plain": [
       "23514624000"
      ]
     },
     "execution_count": 14,
     "metadata": {},
     "output_type": "execute_result"
    }
   ],
   "source": [
    "n = 13\n",
    "%timeit foo(s, n)\n",
    "foo(s, n)"
   ]
  },
  {
   "cell_type": "code",
   "execution_count": 15,
   "metadata": {
    "collapsed": true
   },
   "outputs": [],
   "source": [
    "def foo(s, n):\n",
    "    adjacent_digits = (s[i:i+n] for i in range(len(s) - n + 1))\n",
    "    products = (\n",
    "        reduce(operator.mul, t)\n",
    "        for t in adjacent_digits)\n",
    "    return max(products)"
   ]
  },
  {
   "cell_type": "code",
   "execution_count": 16,
   "metadata": {
    "collapsed": false
   },
   "outputs": [
    {
     "name": "stdout",
     "output_type": "stream",
     "text": [
      "100 loops, best of 3: 2.02 ms per loop\n"
     ]
    },
    {
     "data": {
      "text/plain": [
       "23514624000"
      ]
     },
     "execution_count": 16,
     "metadata": {},
     "output_type": "execute_result"
    }
   ],
   "source": [
    "n = 13\n",
    "%timeit foo(s, n)\n",
    "foo(s, n)"
   ]
  },
  {
   "cell_type": "code",
   "execution_count": 17,
   "metadata": {
    "collapsed": true
   },
   "outputs": [],
   "source": [
    "def foo(s, n):\n",
    "    return max(\n",
    "        reduce(operator.mul, s[i:i+n])\n",
    "        for i in range(len(s) - n + 1))"
   ]
  },
  {
   "cell_type": "code",
   "execution_count": 18,
   "metadata": {
    "collapsed": false
   },
   "outputs": [
    {
     "name": "stdout",
     "output_type": "stream",
     "text": [
      "1000 loops, best of 3: 1.88 ms per loop\n"
     ]
    },
    {
     "data": {
      "text/plain": [
       "23514624000"
      ]
     },
     "execution_count": 18,
     "metadata": {},
     "output_type": "execute_result"
    }
   ],
   "source": [
    "n = 13\n",
    "%timeit foo(s, n)\n",
    "foo(s, n)"
   ]
  },
  {
   "cell_type": "markdown",
   "metadata": {},
   "source": [
    "Having s be a list of ints made the code faster and easier to read.\n",
    "That's a nice combination."
   ]
  },
  {
   "cell_type": "markdown",
   "metadata": {},
   "source": [
    "Below, I explore optimizing for speed."
   ]
  },
  {
   "cell_type": "code",
   "execution_count": 19,
   "metadata": {
    "collapsed": true
   },
   "outputs": [],
   "source": [
    "# Keep a running product,\n",
    "# so that one only needs to\n",
    "# 1. divide out the digit that is \"leaving\"\n",
    "# 2. multiply by the new digit.\n",
    "#\n",
    "# Handling zeroes makes the code complicated.\n",
    "\n",
    "def foo(s, n):\n",
    "    biggest_product = 0\n",
    "    need_to_recalculate = True\n",
    "    for i in range(len(s) - n + 1):\n",
    "        t = s[i:i+n]\n",
    "        if need_to_recalculate:\n",
    "            product = reduce(operator.mul, t)\n",
    "        else:\n",
    "            product *= t[-1]\n",
    "        if product > biggest_product:\n",
    "            biggest_product = product\n",
    "        if product == 0:\n",
    "            need_to_recalculate = True\n",
    "        else:\n",
    "            product //=t[0]\n",
    "    return biggest_product"
   ]
  },
  {
   "cell_type": "code",
   "execution_count": 20,
   "metadata": {
    "collapsed": false
   },
   "outputs": [
    {
     "name": "stdout",
     "output_type": "stream",
     "text": [
      "1000 loops, best of 3: 2.01 ms per loop\n"
     ]
    },
    {
     "data": {
      "text/plain": [
       "23514624000"
      ]
     },
     "execution_count": 20,
     "metadata": {},
     "output_type": "execute_result"
    }
   ],
   "source": [
    "n = 13\n",
    "%timeit foo(s, n)\n",
    "foo(s, n)"
   ]
  },
  {
   "cell_type": "code",
   "execution_count": 21,
   "metadata": {
    "collapsed": true
   },
   "outputs": [],
   "source": [
    "# When a zero digit is encountered,\n",
    "# skip over the subsequences that would include it.\n",
    "\n",
    "def foo(s, n):\n",
    "    biggest_product = 0\n",
    "\n",
    "    for i in range(len(s) - n + 1):\n",
    "        if all(s[i:i+n]):\n",
    "            break\n",
    "\n",
    "    while i < len(s) - n + 1:\n",
    "        if s[i+n-1] == 0:\n",
    "            i += n\n",
    "            continue\n",
    "\n",
    "        product = reduce(operator.mul, s[i:i+n])\n",
    "        if product > biggest_product:\n",
    "            biggest_product = product\n",
    "        i += 1\n",
    "\n",
    "    return biggest_product"
   ]
  },
  {
   "cell_type": "code",
   "execution_count": 22,
   "metadata": {
    "collapsed": false
   },
   "outputs": [
    {
     "name": "stdout",
     "output_type": "stream",
     "text": [
      "1000 loops, best of 3: 1.02 ms per loop\n"
     ]
    },
    {
     "data": {
      "text/plain": [
       "23514624000"
      ]
     },
     "execution_count": 22,
     "metadata": {},
     "output_type": "execute_result"
    }
   ],
   "source": [
    "n = 13\n",
    "%timeit foo(s, n)\n",
    "foo(s, n)"
   ]
  },
  {
   "cell_type": "code",
   "execution_count": 23,
   "metadata": {
    "collapsed": true
   },
   "outputs": [],
   "source": [
    "# When a zero digit is encountered,\n",
    "# skip over the subsequences that would include it.\n",
    "#\n",
    "# Avoid the special case code that frets over\n",
    "# a zero in the initial subsequence.\n",
    "\n",
    "def foo(s, n):\n",
    "    biggest_product = 0\n",
    "\n",
    "    i = 0\n",
    "    while i < len(s) - n + 1:\n",
    "        if s[i+n-1] == 0:\n",
    "            i += n\n",
    "            continue\n",
    "\n",
    "        product = reduce(operator.mul, s[i:i+n])\n",
    "        if product > biggest_product:\n",
    "            biggest_product = product\n",
    "        i += 1\n",
    "\n",
    "    return biggest_product"
   ]
  },
  {
   "cell_type": "code",
   "execution_count": 24,
   "metadata": {
    "collapsed": false
   },
   "outputs": [
    {
     "name": "stdout",
     "output_type": "stream",
     "text": [
      "1000 loops, best of 3: 1.02 ms per loop\n"
     ]
    },
    {
     "data": {
      "text/plain": [
       "23514624000"
      ]
     },
     "execution_count": 24,
     "metadata": {},
     "output_type": "execute_result"
    }
   ],
   "source": [
    "n = 13\n",
    "%timeit foo(s, n)\n",
    "foo(s, n)"
   ]
  },
  {
   "cell_type": "markdown",
   "metadata": {},
   "source": [
    "The while stuff is very un-Pythonic, but fast.\n",
    "Next I try using a more Pythonic iter(range(...)),\n",
    "but it is even uglier than the while stuff above."
   ]
  },
  {
   "cell_type": "code",
   "execution_count": 25,
   "metadata": {
    "collapsed": true
   },
   "outputs": [],
   "source": [
    "def foo(s, n):\n",
    "    biggest_product = 0\n",
    "\n",
    "    iter_i = iter(range(len(s) - n + 1))\n",
    "    for i in iter_i:\n",
    "        if s[i+n-1] == 0:\n",
    "            [next(iter_i) for _ in range(n-1)]\n",
    "            continue\n",
    "\n",
    "        product = reduce(operator.mul, s[i:i+n])\n",
    "        if product > biggest_product:\n",
    "            biggest_product = product\n",
    "\n",
    "    return biggest_product"
   ]
  },
  {
   "cell_type": "code",
   "execution_count": 26,
   "metadata": {
    "collapsed": false
   },
   "outputs": [
    {
     "name": "stdout",
     "output_type": "stream",
     "text": [
      "1000 loops, best of 3: 1.06 ms per loop\n"
     ]
    },
    {
     "data": {
      "text/plain": [
       "23514624000"
      ]
     },
     "execution_count": 26,
     "metadata": {},
     "output_type": "execute_result"
    }
   ],
   "source": [
    "n = 13\n",
    "%timeit foo(s, n)\n",
    "foo(s, n)"
   ]
  },
  {
   "cell_type": "code",
   "execution_count": 27,
   "metadata": {
    "collapsed": true
   },
   "outputs": [],
   "source": [
    "# Put the repeated next(iter_i) in a for loop\n",
    "# instead of a comprehension.\n",
    "#\n",
    "# I am surprised that it is faster.\n",
    "# It it very ugly also, although probably a little bit clearer.\n",
    "\n",
    "def foo(s, n):\n",
    "    biggest_product = 0\n",
    "\n",
    "    iter_i = iter(range(len(s) - n + 1))\n",
    "    for i in iter_i:\n",
    "        if s[i+n-1] == 0:\n",
    "            # Skip over the subsequences that include this zero digit.\n",
    "            # Want to do i += n.\n",
    "            for _ in range(n-1):\n",
    "                next(iter_i)\n",
    "            continue\n",
    "\n",
    "        product = reduce(operator.mul, s[i:i+n])\n",
    "        if product > biggest_product:\n",
    "            biggest_product = product\n",
    "\n",
    "    return biggest_product"
   ]
  },
  {
   "cell_type": "code",
   "execution_count": 28,
   "metadata": {
    "collapsed": false
   },
   "outputs": [
    {
     "name": "stdout",
     "output_type": "stream",
     "text": [
      "1000 loops, best of 3: 1 ms per loop\n"
     ]
    },
    {
     "data": {
      "text/plain": [
       "23514624000"
      ]
     },
     "execution_count": 28,
     "metadata": {},
     "output_type": "execute_result"
    }
   ],
   "source": [
    "n = 13\n",
    "%timeit foo(s, n)\n",
    "foo(s, n)"
   ]
  },
  {
   "cell_type": "markdown",
   "metadata": {},
   "source": [
    "For readability, I like cell #17 the best.\n",
    "\n",
    "For speed, cells #23 and #27 are the fastest, but very ugly."
   ]
  }
 ],
 "metadata": {
  "kernelspec": {
   "display_name": "Python 3",
   "language": "python",
   "name": "python3"
  },
  "language_info": {
   "codemirror_mode": {
    "name": "ipython",
    "version": 3
   },
   "file_extension": ".py",
   "mimetype": "text/x-python",
   "name": "python",
   "nbconvert_exporter": "python",
   "pygments_lexer": "ipython3",
   "version": "3.4.3"
  }
 },
 "nbformat": 4,
 "nbformat_minor": 0
}
