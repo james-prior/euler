{
 "metadata": {
  "name": "euler-087-prime-power-triples-20130821"
 },
 "nbformat": 3,
 "nbformat_minor": 0,
 "worksheets": [
  {
   "cells": [
    {
     "cell_type": "markdown",
     "metadata": {},
     "source": [
      "The smallest number expressible as the sum of a prime square, prime cube, and prime fourth power is 28. In fact, there are exactly four numbers below fifty that can be expressed in such a way:  \n",
      "  \n",
      "> 28 = 2<sup>2</sup> + 2<sup>3</sup> + 2<sup>4</sup>  \n",
      "> 33 = 3<sup>2</sup> + 2<sup>3</sup> + 2<sup>4</sup>  \n",
      "> 49 = 5<sup>2</sup> + 2<sup>3</sup> + 2<sup>4</sup>  \n",
      "> 47 = 2<sup>2</sup> + 3<sup>3</sup> + 2<sup>4</sup>  \n",
      "\n",
      "How many numbers below fifty million can be expressed as the sum of a prime square, prime cube, and prime fourth power?"
     ]
    },
    {
     "cell_type": "code",
     "collapsed": false,
     "input": [
      "from euler import gen_prime, gen_lte\n",
      "from math import sqrt"
     ],
     "language": "python",
     "metadata": {},
     "outputs": [],
     "prompt_number": 1
    },
    {
     "cell_type": "code",
     "collapsed": false,
     "input": [
      "def foo(n):\n",
      "    triples = set([])\n",
      "    alimit = int(sqrt(sqrt(n)))\n",
      "    for a in gen_lte(gen_prime(), alimit):\n",
      "        aa = a * a\n",
      "        aaaa = aa * aa\n",
      "        if aaaa >= n:\n",
      "            break\n",
      "        blimit = int((n - aaaa) ** (1./3))\n",
      "        if (blimit + 1) ** 3 <= n - aaaa:\n",
      "            blimit += 1\n",
      "        for b in gen_lte(gen_prime(), blimit):\n",
      "            bbb = b * b * b\n",
      "            if aaaa + bbb >= n:\n",
      "                assert False, 'aaaa + bbb >= n'\n",
      "            climit = int(sqrt(n - aaaa - bbb))\n",
      "            for c in gen_lte(gen_prime(), climit):\n",
      "                triple = aaaa + bbb + c*c\n",
      "                if triple >= n:\n",
      "                    assert False, 'aaaa + bbb + cc >= n'\n",
      "                triples.add(triple)\n",
      "    return len(triples)    "
     ],
     "language": "python",
     "metadata": {},
     "outputs": [],
     "prompt_number": 2
    },
    {
     "cell_type": "code",
     "collapsed": false,
     "input": [
      "n = 50000000\n",
      "%timeit foo(n)\n",
      "foo(n)"
     ],
     "language": "python",
     "metadata": {},
     "outputs": [
      {
       "output_type": "stream",
       "stream": "stdout",
       "text": [
        "1 loops, best of 3: 1.43 s per loop\n"
       ]
      },
      {
       "output_type": "pyout",
       "prompt_number": 3,
       "text": [
        "1097343"
       ]
      }
     ],
     "prompt_number": 3
    },
    {
     "cell_type": "code",
     "collapsed": false,
     "input": [
      "def foo(n):\n",
      "    triples = set([])\n",
      "    alimit = int(sqrt(sqrt(n)))\n",
      "    for a in gen_lte(gen_prime(), alimit+1):\n",
      "        aa = a * a\n",
      "        aaaa = aa * aa\n",
      "        if aaaa >= n:\n",
      "            break\n",
      "        blimit = int((n - aaaa) ** (1./3))\n",
      "        if (blimit + 1) ** 3 <= n - aaaa:\n",
      "            blimit += 1\n",
      "        for b in gen_lte(gen_prime(), blimit+1):\n",
      "            bbb = b * b * b\n",
      "            if aaaa + bbb >= n:\n",
      "                break\n",
      "                assert False, 'aaaa + bbb >= n'\n",
      "            climit = int(sqrt(n - aaaa - bbb))\n",
      "            for c in gen_lte(gen_prime(), climit+1):\n",
      "                triple = aaaa + bbb + c*c\n",
      "                if triple >= n:\n",
      "                    break\n",
      "                    assert False, 'aaaa + bbb + cc >= n'\n",
      "                triples.add(triple)\n",
      "    return len(triples)    "
     ],
     "language": "python",
     "metadata": {},
     "outputs": [],
     "prompt_number": 4
    },
    {
     "cell_type": "code",
     "collapsed": false,
     "input": [
      "n = 50000000\n",
      "%timeit foo(n)\n",
      "foo(n)"
     ],
     "language": "python",
     "metadata": {},
     "outputs": [
      {
       "output_type": "stream",
       "stream": "stdout",
       "text": [
        "1 loops, best of 3: 1.44 s per loop\n"
       ]
      },
      {
       "output_type": "pyout",
       "prompt_number": 5,
       "text": [
        "1097343"
       ]
      }
     ],
     "prompt_number": 5
    },
    {
     "cell_type": "code",
     "collapsed": false,
     "input": [
      "def foo(n):\n",
      "    triples = set([])\n",
      "    for a in gen_prime():\n",
      "        aa = a * a\n",
      "        aaaa = aa * aa\n",
      "        if aaaa >= n:\n",
      "            break\n",
      "        for b in gen_prime():\n",
      "            bbb = b * b * b\n",
      "            if aaaa + bbb >= n:\n",
      "                break\n",
      "            for c in gen_prime():\n",
      "                triple = aaaa + bbb + c*c\n",
      "                if triple >= n:\n",
      "                    break\n",
      "                    assert False, 'aaaa + bbb + cc >= n'\n",
      "                triples.add(triple)\n",
      "    return len(triples)    "
     ],
     "language": "python",
     "metadata": {},
     "outputs": [],
     "prompt_number": 6
    },
    {
     "cell_type": "code",
     "collapsed": false,
     "input": [
      "n = 50000000\n",
      "%timeit foo(n)\n",
      "foo(n)"
     ],
     "language": "python",
     "metadata": {},
     "outputs": [
      {
       "output_type": "stream",
       "stream": "stdout",
       "text": [
        "1 loops, best of 3: 1.24 s per loop\n"
       ]
      },
      {
       "output_type": "pyout",
       "prompt_number": 7,
       "text": [
        "1097343"
       ]
      }
     ],
     "prompt_number": 7
    }
   ],
   "metadata": {}
  }
 ]
}