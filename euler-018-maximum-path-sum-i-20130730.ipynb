{
 "metadata": {
  "name": "euler-018-maximum-path-sum-i-20130730"
 },
 "nbformat": 3,
 "nbformat_minor": 0,
 "worksheets": [
  {
   "cells": [
    {
     "cell_type": "markdown",
     "metadata": {},
     "source": [
      "By starting at the top of the triangle below and moving to adjacent numbers on the row below, the maximum total from top to bottom is 23.  \n",
      "**3**  \n",
      " **7** 4  \n",
      " 2 **4** 6  \n",
      " 8 5 **9** 3  \n",
      "That is, 3 + 7 + 4 + 9 = 23.   \n",
      "Find the maximum total from top to bottom of the triangle below:  \n",
      "75  \n",
      " 95 64  \n",
      " 17 47 82  \n",
      " 18 35 87 10  \n",
      " 20 04 82 47 65  \n",
      " 19 01 23 75 03 34  \n",
      " 88 02 77 73 07 63 67  \n",
      " 99 65 04 28 06 16 70 92  \n",
      " 41 41 26 56 83 40 80 70 33  \n",
      " 41 48 72 33 47 32 37 16 94 29  \n",
      " 53 71 44 65 25 43 91 52 97 51 14  \n",
      " 70 11 33 28 77 73 17 78 39 68 17 57  \n",
      " 91 71 52 38 17 14 91 43 58 50 27 29 48  \n",
      " 63 66 04 68 89 53 67 30 73 16 69 87 40 31  \n",
      " 04 62 98 27 23 09 70 98 73 93 38 53 60 04 23  \n",
      "NOTE: As there are only 16384 routes, it is possible to solve this problem by trying every route. However, Problem 67, is the same challenge with a triangle containing one-hundred rows; it cannot be solved by brute force, and requires a clever method! ;o)"
     ]
    },
    {
     "cell_type": "code",
     "collapsed": false,
     "input": [
      "t4 = [\n",
      "    [3],\n",
      "    [7, 4],\n",
      "    [2, 4, 6],\n",
      "    [8, 5, 9, 3],]\n",
      "t4"
     ],
     "language": "python",
     "metadata": {},
     "outputs": [
      {
       "output_type": "pyout",
       "prompt_number": 1,
       "text": [
        "[[3], [7, 4], [2, 4, 6], [8, 5, 9, 3]]"
       ]
      }
     ],
     "prompt_number": 1
    },
    {
     "cell_type": "code",
     "collapsed": false,
     "input": [
      "t15 = [\n",
      "    [75],\n",
      "    [95, 64],\n",
      "    [17, 47, 82],\n",
      "    [18, 35, 87, 10],\n",
      "    [20,  4, 82, 47, 65],\n",
      "    [19,  1, 23, 75,  3, 34],\n",
      "    [88,  2, 77, 73,  7, 63, 67],\n",
      "    [99, 65,  4, 28,  6, 16, 70, 92],\n",
      "    [41, 41, 26, 56, 83, 40, 80, 70, 33],\n",
      "    [41, 48, 72, 33, 47, 32, 37, 16, 94, 29],\n",
      "    [53, 71, 44, 65, 25, 43, 91, 52, 97, 51, 14],\n",
      "    [70, 11, 33, 28, 77, 73, 17, 78, 39, 68, 17, 57],\n",
      "    [91, 71, 52, 38, 17, 14, 91, 43, 58, 50, 27, 29, 48],\n",
      "    [63, 66,  4, 68, 89, 53, 67, 30, 73, 16, 69, 87, 40, 31],\n",
      "    [04, 62, 98, 27, 23,  9, 70, 98, 73, 93, 38, 53, 60,  4, 23],]\n",
      "len(t15)"
     ],
     "language": "python",
     "metadata": {},
     "outputs": [
      {
       "output_type": "pyout",
       "prompt_number": 2,
       "text": [
        "15"
       ]
      }
     ],
     "prompt_number": 2
    },
    {
     "cell_type": "code",
     "collapsed": false,
     "input": [
      "def foo(t):\n",
      "    for i in range(len(t))[::-1]:\n",
      "        r = t[i]\n",
      "        try:\n",
      "            nr = t[i+1]\n",
      "        except IndexError:\n",
      "            for j in range(len(t[i])):\n",
      "                t[i][j] = (t[i][j], None)\n",
      "        else:\n",
      "            for j in range(len(t[i])):\n",
      "                dir = (t[i+1][j+1][0] > t[i+1][j+0][0])\n",
      "                t[i][j] = (t[i][j] + t[i+1][j+dir][0], dir)\n",
      "    return t[0][0][0]"
     ],
     "language": "python",
     "metadata": {},
     "outputs": [],
     "prompt_number": 3
    },
    {
     "cell_type": "code",
     "collapsed": false,
     "input": [
      "from copy import deepcopy"
     ],
     "language": "python",
     "metadata": {},
     "outputs": [],
     "prompt_number": 4
    },
    {
     "cell_type": "code",
     "collapsed": false,
     "input": [
      "%timeit foo(deepcopy(t4))\n",
      "foo(deepcopy(t4))"
     ],
     "language": "python",
     "metadata": {},
     "outputs": [
      {
       "output_type": "stream",
       "stream": "stdout",
       "text": [
        "10000 loops, best of 3: 59.3 us per loop\n"
       ]
      },
      {
       "output_type": "pyout",
       "prompt_number": 5,
       "text": [
        "23"
       ]
      }
     ],
     "prompt_number": 5
    },
    {
     "cell_type": "code",
     "collapsed": false,
     "input": [
      "%timeit foo(deepcopy(t15))\n",
      "foo(deepcopy(t15))"
     ],
     "language": "python",
     "metadata": {},
     "outputs": [
      {
       "output_type": "stream",
       "stream": "stdout",
       "text": [
        "1000 loops, best of 3: 431 us per loop\n"
       ]
      },
      {
       "output_type": "pyout",
       "prompt_number": 6,
       "text": [
        "1074"
       ]
      }
     ],
     "prompt_number": 6
    }
   ],
   "metadata": {}
  }
 ]
}