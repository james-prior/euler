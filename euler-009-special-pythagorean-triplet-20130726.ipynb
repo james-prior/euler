{
 "metadata": {
  "name": "euler-009-special-pythagorean-triplet-20130726"
 },
 "nbformat": 3,
 "nbformat_minor": 0,
 "worksheets": [
  {
   "cells": [
    {
     "cell_type": "code",
     "collapsed": false,
     "input": [
      "from euler import make_square_roots"
     ],
     "language": "python",
     "metadata": {},
     "outputs": [],
     "prompt_number": 1
    },
    {
     "cell_type": "code",
     "collapsed": false,
     "input": [
      "make_square_roots(10)"
     ],
     "language": "python",
     "metadata": {},
     "outputs": [
      {
       "output_type": "pyout",
       "prompt_number": 2,
       "text": [
        "[(0, 0),\n",
        " (1, 1),\n",
        " (4, 2),\n",
        " (9, 3),\n",
        " (16, 4),\n",
        " (25, 5),\n",
        " (36, 6),\n",
        " (49, 7),\n",
        " (64, 8),\n",
        " (81, 9)]"
       ]
      }
     ],
     "prompt_number": 2
    },
    {
     "cell_type": "code",
     "collapsed": false,
     "input": [
      "dict(make_square_roots(10))"
     ],
     "language": "python",
     "metadata": {},
     "outputs": [
      {
       "output_type": "pyout",
       "prompt_number": 3,
       "text": [
        "{0: 0, 1: 1, 4: 2, 9: 3, 16: 4, 25: 5, 36: 6, 49: 7, 64: 8, 81: 9}"
       ]
      }
     ],
     "prompt_number": 3
    },
    {
     "cell_type": "code",
     "collapsed": false,
     "input": [
      "def foo(n):\n",
      "    square_roots = dict(make_square_roots(n))\n",
      "\n",
      "    for a in xrange(1, n / 2 + 1):\n",
      "        for b in xrange(a + 1, n / 2 + 1):\n",
      "            c_squared = a*a + b*b\n",
      "            try:\n",
      "                c = square_roots[c_squared]\n",
      "            except KeyError:\n",
      "                continue\n",
      "            if a + b + c == n:\n",
      "                yield a, b, c"
     ],
     "language": "python",
     "metadata": {},
     "outputs": [],
     "prompt_number": 4
    },
    {
     "cell_type": "code",
     "collapsed": false,
     "input": [
      "%timeit list(foo(1000))\n",
      "list(foo(1000))"
     ],
     "language": "python",
     "metadata": {},
     "outputs": [
      {
       "output_type": "stream",
       "stream": "stdout",
       "text": [
        "1 loops, best of 3: 197 ms per loop\n"
       ]
      },
      {
       "output_type": "pyout",
       "prompt_number": 5,
       "text": [
        "[(200, 375, 425)]"
       ]
      }
     ],
     "prompt_number": 5
    }
   ],
   "metadata": {}
  }
 ]
}