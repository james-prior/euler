{
 "metadata": {
  "name": "euler-021-amicable-numbers-20130730"
 },
 "nbformat": 3,
 "nbformat_minor": 0,
 "worksheets": [
  {
   "cells": [
    {
     "cell_type": "markdown",
     "metadata": {},
     "source": [
      "Let d(n) be defined as the sum of proper divisors of n (numbers less than n which divide evenly into n).  \n",
      " If d(a) = b and d(b) = a, where a \u2260 b, then a and b are an amicable pair and each of a and b are called amicable numbers.  \n",
      "\n",
      "For example, the proper divisors of 220 are 1, 2, 4, 5, 10, 11, 20, 22, 44, 55 and 110; therefore d(220) = 284. The proper divisors of 284 are 1, 2, 4, 71 and 142; so d(284) = 220.  \n",
      "Evaluate the sum of all the amicable numbers under 10000."
     ]
    },
    {
     "cell_type": "code",
     "collapsed": false,
     "input": [
      "from itertools import product, repeat"
     ],
     "language": "python",
     "metadata": {},
     "outputs": [],
     "prompt_number": 1
    },
    {
     "cell_type": "code",
     "collapsed": false,
     "input": [
      "from euler import get_factors, gen_prime"
     ],
     "language": "python",
     "metadata": {},
     "outputs": [],
     "prompt_number": 2
    },
    {
     "cell_type": "code",
     "collapsed": false,
     "input": [
      "import operator"
     ],
     "language": "python",
     "metadata": {},
     "outputs": [],
     "prompt_number": 3
    },
    {
     "cell_type": "code",
     "collapsed": false,
     "input": [
      "def d(n):\n",
      "    factors = get_factors(n)\n",
      "    divisors = set([1])\n",
      "    # print zip(list(product(*[range(2)] * len(factors))), repeat(factors))\n",
      "    divisors = set(map((lambda x, y: reduce(operator.mul, filter(None, map(operator.mul, x, y)), 1)), product(*[range(2)] * len(factors)), repeat(factors, 2**len(factors))))\n",
      "    # print map((lambda x: filter(x[0], x[1])), zip(list(product(*[range(2)] * 4)), repeat(factors)))\n",
      "    return sum(divisors - set([n]))"
     ],
     "language": "python",
     "metadata": {},
     "outputs": [],
     "prompt_number": 4
    },
    {
     "cell_type": "code",
     "collapsed": false,
     "input": [
      "print d(220), d(284)"
     ],
     "language": "python",
     "metadata": {},
     "outputs": [
      {
       "output_type": "stream",
       "stream": "stdout",
       "text": [
        "284 220\n"
       ]
      }
     ],
     "prompt_number": 5
    },
    {
     "cell_type": "code",
     "collapsed": false,
     "input": [
      "def foo(n):\n",
      "    ds = [d(i) for i in range(n)]\n",
      "    amicable_numbers = set([])\n",
      "    for i in range(2, n):\n",
      "        for j in range(i+1, n):\n",
      "            if ds[i] == j and ds[j] == i:\n",
      "                amicable_numbers.add(i)\n",
      "                amicable_numbers.add(j)\n",
      "    return amicable_numbers"
     ],
     "language": "python",
     "metadata": {},
     "outputs": [],
     "prompt_number": 6
    },
    {
     "cell_type": "code",
     "collapsed": false,
     "input": [
      "n = 10000\n",
      "%timeit sum(foo(n))\n",
      "sum(foo(n))"
     ],
     "language": "python",
     "metadata": {},
     "outputs": [
      {
       "output_type": "stream",
       "stream": "stdout",
       "text": [
        "1 loops, best of 3: 6.99 s per loop\n"
       ]
      },
      {
       "output_type": "pyout",
       "prompt_number": 7,
       "text": [
        "31626"
       ]
      }
     ],
     "prompt_number": 7
    },
    {
     "cell_type": "code",
     "collapsed": false,
     "input": [
      "def foo(n):\n",
      "    ds = [d(i) for i in range(n)]\n",
      "    big_ds = dict([(i, d(i)) for i in ds if i>n])\n",
      "    # print len(big_ds)\n",
      "    amicable_numbers = set([])\n",
      "    for i in range(2, n):\n",
      "        j = ds[i]\n",
      "        if j < n:\n",
      "            if i != j and ds[j] == i:\n",
      "                amicable_numbers.add(i)\n",
      "                amicable_numbers.add(j)\n",
      "        else:\n",
      "            if i != j and big_ds[j] == i:\n",
      "                amicable_numbers.add(i)\n",
      "                \n",
      "    return amicable_numbers    "
     ],
     "language": "python",
     "metadata": {},
     "outputs": [],
     "prompt_number": 8
    },
    {
     "cell_type": "code",
     "collapsed": false,
     "input": [
      "n = 10000\n",
      "%timeit sum(foo(n))\n",
      "sum(foo(n))"
     ],
     "language": "python",
     "metadata": {},
     "outputs": [
      {
       "output_type": "stream",
       "stream": "stdout",
       "text": [
        "1 loops, best of 3: 1.62 s per loop\n"
       ]
      },
      {
       "output_type": "pyout",
       "prompt_number": 9,
       "text": [
        "31626"
       ]
      }
     ],
     "prompt_number": 9
    }
   ],
   "metadata": {}
  }
 ]
}