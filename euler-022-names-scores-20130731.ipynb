{
 "metadata": {
  "name": "euler-022-names-scores-20130731"
 },
 "nbformat": 3,
 "nbformat_minor": 0,
 "worksheets": [
  {
   "cells": [
    {
     "cell_type": "markdown",
     "metadata": {},
     "source": [
      "Using [names.txt](http://projecteuler.net/project/names.txt) (right click and 'Save Link/Target As...'), a 46K text file containing over five-thousand first names, begin by sorting it into alphabetical order. Then working out the alphabetical value for each name, multiply this value by its alphabetical position in the list to obtain a name score.  \n",
      "\n",
      "For example, when the list is sorted into alphabetical order, COLIN, which is worth 3 + 15 + 12 + 9 + 14 = 53, is the 938th name in the list. So, COLIN would obtain a score of 938 \u00d7 53 = 49714.  \n",
      "\n",
      "What is the total of all the name scores in the file?"
     ]
    },
    {
     "cell_type": "code",
     "collapsed": false,
     "input": [
      "# !wget http://projecteuler.net/project/names.txt"
     ],
     "language": "python",
     "metadata": {},
     "outputs": [],
     "prompt_number": 1
    },
    {
     "cell_type": "code",
     "collapsed": false,
     "input": [
      "import csv"
     ],
     "language": "python",
     "metadata": {},
     "outputs": [],
     "prompt_number": 2
    },
    {
     "cell_type": "code",
     "collapsed": false,
     "input": [
      "def foo(path):\n",
      "    score = 0\n",
      "    with open(path) as file:\n",
      "        for row in csv.reader(file):\n",
      "            for i, name in (enumerate(sorted(row), 1)):\n",
      "                score += i * sum((ord(c) - ord('A') + 1 for c in name))\n",
      "    return score"
     ],
     "language": "python",
     "metadata": {},
     "outputs": [],
     "prompt_number": 3
    },
    {
     "cell_type": "code",
     "collapsed": false,
     "input": [
      "%timeit foo('names.txt')\n",
      "foo('names.txt')"
     ],
     "language": "python",
     "metadata": {},
     "outputs": [
      {
       "output_type": "stream",
       "stream": "stdout",
       "text": [
        "10 loops, best of 3: 21.7 ms per loop\n"
       ]
      },
      {
       "output_type": "pyout",
       "prompt_number": 4,
       "text": [
        "871198282"
       ]
      }
     ],
     "prompt_number": 4
    },
    {
     "cell_type": "code",
     "collapsed": false,
     "input": [
      "[(x, y) for x in range(2) for y in range(3)]"
     ],
     "language": "python",
     "metadata": {},
     "outputs": [
      {
       "output_type": "pyout",
       "prompt_number": 5,
       "text": [
        "[(0, 0), (0, 1), (0, 2), (1, 0), (1, 1), (1, 2)]"
       ]
      }
     ],
     "prompt_number": 5
    },
    {
     "cell_type": "markdown",
     "metadata": {},
     "source": [
      "Try again with mondo list comprehension."
     ]
    },
    {
     "cell_type": "code",
     "collapsed": false,
     "input": [
      "def foo(path):\n",
      "    with open(path) as file:\n",
      "        return sum([i * sum((ord(c) - ord('A') + 1 for c in name))\n",
      "            for row in csv.reader(file)\n",
      "            for i, name in (enumerate(sorted(row), 1))])"
     ],
     "language": "python",
     "metadata": {},
     "outputs": [],
     "prompt_number": 6
    },
    {
     "cell_type": "code",
     "collapsed": false,
     "input": [
      "%timeit foo('names.txt')\n",
      "foo('names.txt')"
     ],
     "language": "python",
     "metadata": {},
     "outputs": [
      {
       "output_type": "stream",
       "stream": "stdout",
       "text": [
        "10 loops, best of 3: 21.7 ms per loop\n"
       ]
      },
      {
       "output_type": "pyout",
       "prompt_number": 7,
       "text": [
        "871198282"
       ]
      }
     ],
     "prompt_number": 7
    },
    {
     "cell_type": "markdown",
     "metadata": {},
     "source": [
      "Try again with mondo generator expression. This was slower. "
     ]
    },
    {
     "cell_type": "code",
     "collapsed": false,
     "input": [
      "def foo(path):\n",
      "    with open(path) as file:\n",
      "        return sum((i * sum((ord(c) - ord('A') + 1 for c in name))\n",
      "            for row in csv.reader(file)\n",
      "            for i, name in (enumerate(sorted(row), 1))))"
     ],
     "language": "python",
     "metadata": {},
     "outputs": [],
     "prompt_number": 8
    },
    {
     "cell_type": "code",
     "collapsed": false,
     "input": [
      "%timeit foo('names.txt')\n",
      "foo('names.txt')"
     ],
     "language": "python",
     "metadata": {},
     "outputs": [
      {
       "output_type": "stream",
       "stream": "stdout",
       "text": [
        "10 loops, best of 3: 22.1 ms per loop\n"
       ]
      },
      {
       "output_type": "pyout",
       "prompt_number": 9,
       "text": [
        "871198282"
       ]
      }
     ],
     "prompt_number": 9
    }
   ],
   "metadata": {}
  }
 ]
}